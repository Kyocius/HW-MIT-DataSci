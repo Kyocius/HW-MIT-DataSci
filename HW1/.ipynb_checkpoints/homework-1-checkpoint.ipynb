{
 "cells": [
  {
   "cell_type": "markdown",
   "metadata": {},
   "source": [
    "## Description-1"
   ]
  },
  {
   "cell_type": "code",
   "execution_count": 1,
   "metadata": {},
   "outputs": [
    {
     "name": "stdout",
     "output_type": "stream",
     "text": [
      "2.00000\n"
     ]
    }
   ],
   "source": [
    "def getSqrt(x):\n",
    "    if x < 2:\n",
    "        return x\n",
    "    y = x\n",
    "    z = (y + (x / y)) / 2\n",
    "    while abs(y - z) >= 0.00001:\n",
    "        y = z\n",
    "        z = (y + (x / y)) / 2\n",
    "    return z\n",
    "\n",
    "n = input(\"Input a number and return you the root of it: \")\n",
    "ans = getSqrt(int(n))\n",
    "print(f\"{ans:.5f}\")\n",
    "\n"
   ]
  },
  {
   "cell_type": "markdown",
   "metadata": {},
   "source": [
    "## Description-2"
   ]
  },
  {
   "cell_type": "code",
   "execution_count": 3,
   "metadata": {},
   "outputs": [],
   "source": [
    "import numpy as np\n",
    "\n",
    "filename = \"data_HW1.txt\"\n",
    "with open(filename, \"r\") as file:\n",
    "    lines = file.readlines()\n",
    "\n",
    "data = [line.split() for line in lines]"
   ]
  },
  {
   "cell_type": "code",
   "execution_count": null,
   "metadata": {},
   "outputs": [],
   "source": [
    "print(data[1:])"
   ]
  },
  {
   "cell_type": "code",
   "execution_count": 23,
   "metadata": {},
   "outputs": [
    {
     "name": "stdout",
     "output_type": "stream",
     "text": [
      "The Average of   Column 1: 9.0\n",
      "The deviation of Column 1: 3.1622776601683795\n",
      "\n",
      "The Average of   Column 2: 7.500909090909093\n",
      "The deviation of Column 2: 1.937024215108669\n",
      "\n",
      "The Average of   Column 3: 9.0\n",
      "The deviation of Column 3: 3.1622776601683795\n",
      "\n",
      "The Average of   Column 4: 7.500909090909091\n",
      "The deviation of Column 4: 1.93710869148962\n",
      "\n",
      "The Average of   Column 5: 9.0\n",
      "The deviation of Column 5: 3.1622776601683795\n",
      "\n",
      "The Average of   Column 6: 7.500000000000001\n",
      "The deviation of Column 6: 1.9359329439927313\n",
      "\n",
      "The Average of   Column 7: 9.0\n",
      "The deviation of Column 7: 3.1622776601683795\n",
      "\n",
      "The Average of   Column 8: 7.50090909090909\n",
      "The deviation of Column 8: 1.9360806451340837\n",
      "\n"
     ]
    }
   ],
   "source": [
    "for i in range(0,8):\n",
    "    column = [row[i] for row in data[1:]]\n",
    "    column = [float(value) for value in column]\n",
    "\n",
    "    average = sum(column) / len(column)\n",
    "    deviation = np.std(column)\n",
    "\n",
    "    print(f\"The Average of   Column {i+1}: {average}\")\n",
    "    print(f\"The deviation of Column {i+1}: {deviation}\\n\")"
   ]
  }
 ],
 "metadata": {
  "kernelspec": {
   "display_name": "Python 3",
   "language": "python",
   "name": "python3"
  },
  "language_info": {
   "codemirror_mode": {
    "name": "ipython",
    "version": 3
   },
   "file_extension": ".py",
   "mimetype": "text/x-python",
   "name": "python",
   "nbconvert_exporter": "python",
   "pygments_lexer": "ipython3",
   "version": "3.11.7"
  }
 },
 "nbformat": 4,
 "nbformat_minor": 2
}
