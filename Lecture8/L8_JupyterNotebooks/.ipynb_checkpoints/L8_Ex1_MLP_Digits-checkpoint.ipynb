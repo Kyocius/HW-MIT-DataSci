{
 "cells": [
  {
   "cell_type": "markdown",
   "id": "ab4a2519",
   "metadata": {},
   "source": [
    "# Image recognition with a MLP classifier\n",
    "\n",
    "We use an MLP classifier to recognize handwritten digits. \n",
    "1. This introduces a prominent use-case for ML algorithms: Image recognition and classification\n",
    "2. Most our previous examples had only 2 target classes. Here we have 10, the digits \"0\", \"1\", \"2\",....,\"9\". This is a subset of a max larger dataset of handwritten digits we will use later"
   ]
  },
  {
   "cell_type": "code",
   "execution_count": 18,
   "id": "54e5e1cb",
   "metadata": {},
   "outputs": [
    {
     "name": "stdout",
     "output_type": "stream",
     "text": [
      "We have a total of 1797 image samples\n"
     ]
    },
    {
     "data": {
      "image/png": "[encoded data removed]",
      "text/plain": [
       "<Figure size 800x10 with 5 Axes>"
      ]
     },
     "metadata": {},
     "output_type": "display_data"
    }
   ],
   "source": [
    "# import standard stuff\n",
    "import matplotlib.pyplot as plt\n",
    "import numpy as np\n",
    "\n",
    "# Import train_test_split function\n",
    "from sklearn.model_selection import train_test_split\n",
    "\n",
    "#Import scikit-learn metrics module for accuracy calculation\n",
    "from sklearn import metrics\n",
    "\n",
    "#Import scikit-learn MLP classifier\n",
    "from sklearn.neural_network import MLPClassifier \n",
    "\n",
    "#Import datasets so we can access the \"digits\" dataset\n",
    "from sklearn import datasets\n",
    "\n",
    "#import the digits dataset\n",
    "digits = datasets.load_digits()\n",
    "\n",
    "print(f\"We have a total of {len(digits.images)} image samples\")\n",
    "\n",
    "#look at the first 5 images\n",
    "fig, axes = plt.subplots(nrows=1, ncols=5, figsize=(8, 1))\n",
    "for i in range(5):\n",
    "    ax = axes[i]\n",
    "    ax.set_axis_off()\n",
    "    ax.imshow(digits.images[i], cmap=plt.cm.gray_r, interpolation=\"nearest\")\n",
    "    title = \"Image \" + str(digits.target[i])\n",
    "    ax.set_title(title)"
   ]
  },
  {
   "cell_type": "code",
   "execution_count": null,
   "id": "c090c95f",
   "metadata": {},
   "outputs": [],
   "source": [
    "# flatten the images\n",
    "n_samples = len(digits.images)\n",
    "data = digits.images.reshape((n_samples, -1))\n",
    "\n",
    "print(\"data[0] = \",data[0])\n",
    "\n",
    "# Create an MLP classifier\n",
    "clf = MLPClassifier(solver='adam', hidden_layer_sizes=(5, 5), max_iter=10000)\n",
    "\n",
    "# Split data into 50% train and 50% test subsets\n",
    "X_train, X_test, y_train, y_test = train_test_split(\n",
    "    data, digits.target, test_size=0.5, shuffle=False\n",
    ")\n",
    "\n",
    "# Learn the digits on the train subset\n",
    "clf.fit(X_train, y_train)\n",
    "\n",
    "# Predict the value of the digit on the test subset\n",
    "predicted = clf.predict(X_test)"
   ]
  }
 ],
 "metadata": {
  "kernelspec": {
   "display_name": "Python 3 (ipykernel)",
   "language": "python",
   "name": "python3"
  },
  "language_info": {
   "codemirror_mode": {
    "name": "ipython",
    "version": 3
   },
   "file_extension": ".py",
   "mimetype": "text/x-python",
   "name": "python",
   "nbconvert_exporter": "python",
   "pygments_lexer": "ipython3",
   "version": "3.11.7"
  }
 },
 "nbformat": 4,
 "nbformat_minor": 5
}
