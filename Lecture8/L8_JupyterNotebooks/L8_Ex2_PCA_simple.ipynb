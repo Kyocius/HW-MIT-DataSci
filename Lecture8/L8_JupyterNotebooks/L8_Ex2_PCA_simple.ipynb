{
 "cells": [
  {
   "cell_type": "markdown",
   "id": "e7861a71",
   "metadata": {},
   "source": [
    "# Principal component analysis with scikit-learn\n",
    "\n",
    "Simple example of a principal component analysis using two linearly correlated features"
   ]
  },
  {
   "cell_type": "code",
   "execution_count": null,
   "id": "6e929fec",
   "metadata": {
    "scrolled": false
   },
   "outputs": [],
   "source": [
    "# import standard stuff\n",
    "import matplotlib.pyplot as plt\n",
    "import numpy as np\n",
    "\n",
    "# generate two gaussian variables that are linearly correlated\n",
    "\n",
    "noise = 0\n",
    "a = 0.5\n",
    "b = -0.5\n",
    "x1 = np.random.normal(0,1,1000)\n",
    "x2 = []\n",
    "for x in x1:\n",
    "    x2.append(a*x+b) \n",
    "fig,axes = plt.subplots(1,3,figsize=(10,3))\n",
    "ax = axes[0]\n",
    "ax.hist(x1)\n",
    "ax.set_xlabel(\"x1\")\n",
    "ax = axes[1]\n",
    "ax.hist(x1)\n",
    "ax.set_xlabel(\"x2\")\n",
    "ax = axes[2]\n",
    "ax.scatter(x1,x2)\n",
    "ax.set_xlabel(\"x1\")\n",
    "ax.set_ylabel(\"x2\")\n",
    "fig.tight_layout()\n",
    "plt.show()"
   ]
  },
  {
   "cell_type": "markdown",
   "id": "69e6a116",
   "metadata": {},
   "source": [
    "\"wine\" data are the results of a chemical analysis of wines grown in the same region in Italy. The analysis determined the quantities of __13 constituents__ found in each of __three__ types of wines. There are __178__ samples"
   ]
  },
  {
   "cell_type": "code",
   "execution_count": null,
   "id": "8cff08dc",
   "metadata": {},
   "outputs": [],
   "source": [
    "X = np.empty((len(x1),2))\n",
    "for i in range(len(x1)):\n",
    "    X[i,0] = x1[i]\n",
    "    X[i,1] = x2[i]\n",
    "print(np.shape(X))\n",
    "print(X[0])"
   ]
  },
  {
   "cell_type": "code",
   "execution_count": null,
   "id": "d4a0cc4e",
   "metadata": {
    "scrolled": false
   },
   "outputs": [],
   "source": [
    "# import the PCA method from sklearn\n",
    "# this will do all the work for us\n",
    "\n",
    "from sklearn.decomposition import PCA\n",
    "\n",
    "# we can set the number of PCA components we want to reduce the data set to\n",
    "pca = PCA(n_components=2)\n",
    "# there are two steps\n",
    "# first, we find the principal components\n",
    "pca.fit(X)\n",
    "\n",
    "# we can then also transform the input data into \n",
    "# a representation by the three components only\n",
    "Xpca = pca.transform(X)\n",
    "\n",
    "print(np.shape(X))\n",
    "print(np.shape(Xpca))\n",
    "\n"
   ]
  },
  {
   "cell_type": "code",
   "execution_count": null,
   "id": "e25d5e6b",
   "metadata": {},
   "outputs": [],
   "source": [
    "fig,axes = plt.subplots(1,2,figsize=(6,3))\n",
    "ax = axes[0]\n",
    "ax.scatter(X[:,0],X[:,1])\n",
    "ax.set_xlabel(\"x1\")\n",
    "ax.set_ylabel(\"x2\")\n",
    "ax = axes[1]\n",
    "ax.scatter(Xpca[:,0],Xpca[:,1])\n",
    "ax.set_ylim(-0.1,0.1)\n",
    "ax.set_xlabel(\"component 1\")\n",
    "ax.set_ylabel(\"component 2\")\n",
    "fig.tight_layout()\n",
    "plt.show()"
   ]
  },
  {
   "cell_type": "code",
   "execution_count": null,
   "id": "7490d814",
   "metadata": {},
   "outputs": [],
   "source": [
    "# How well do the PCA components explain the variation in the original data\n",
    "print(f\"PCA explains {sum(pca.explained_variance_ratio_):.3} of the data variance\")\n"
   ]
  },
  {
   "cell_type": "markdown",
   "id": "e9d18810",
   "metadata": {},
   "source": [
    "How does the explained variance change with the number of components we allow?"
   ]
  },
  {
   "cell_type": "code",
   "execution_count": null,
   "id": "50c4c237",
   "metadata": {},
   "outputs": [],
   "source": [
    "# it looks like the first component can explain everyting. Let's check\n",
    "pca = PCA(n_components=1)\n",
    "# there are two steps\n",
    "# first, we find the principal components\n",
    "pca.fit(X)\n",
    "\n",
    "# we can then also transform the input data into \n",
    "# a representation by the three components only\n",
    "Xpca = pca.transform(X)\n",
    "\n",
    "print(np.shape(X))\n",
    "print(np.shape(Xpca))\n",
    "print(f\"PCA explains {sum(pca.explained_variance_ratio_):.3} of the data variance\")"
   ]
  },
  {
   "cell_type": "markdown",
   "id": "962a7295",
   "metadata": {},
   "source": [
    "What if we add some noise to the problem?"
   ]
  },
  {
   "cell_type": "code",
   "execution_count": null,
   "id": "bf725cb7",
   "metadata": {},
   "outputs": [],
   "source": [
    "noise = 0.25\n",
    "a = 0.5\n",
    "b = -0.5\n",
    "x1 = np.random.normal(0,1,1000)\n",
    "x2 = []\n",
    "for x in x1:\n",
    "    x2.append(a*x+b+ np.random.normal(0,noise))\n",
    "fig,axes = plt.subplots(1,3,figsize=(10,3))\n",
    "ax = axes[0]\n",
    "ax.hist(x1)\n",
    "ax.set_xlabel(\"x1\")\n",
    "ax = axes[1]\n",
    "ax.hist(x1)\n",
    "ax.set_xlabel(\"x2\")\n",
    "ax = axes[2]\n",
    "ax.scatter(x1,x2)\n",
    "ax.set_xlabel(\"x1\")\n",
    "ax.set_ylabel(\"x2\")\n",
    "fig.tight_layout()\n",
    "plt.show()"
   ]
  },
  {
   "cell_type": "code",
   "execution_count": null,
   "id": "ac65eb8c",
   "metadata": {},
   "outputs": [],
   "source": [
    "X = np.empty((len(x1),2))\n",
    "for i in range(len(x1)):\n",
    "    X[i,0] = x1[i]\n",
    "    X[i,1] = x2[i]\n",
    "\n",
    "# Rerun the PCA with just 1 component\n",
    "pca = PCA(n_components=1)\n",
    "# there are two steps\n",
    "# first, we find the principal components\n",
    "pca.fit(X)\n",
    "\n",
    "# we can then also transform the input data into \n",
    "# a representation by the three components only\n",
    "Xpca = pca.transform(X)\n",
    "\n",
    "print(np.shape(X))\n",
    "print(np.shape(Xpca))\n",
    "print(f\"PCA explains {sum(pca.explained_variance_ratio_):.3} of the data variance\")\n"
   ]
  },
  {
   "cell_type": "code",
   "execution_count": null,
   "id": "106c722b",
   "metadata": {},
   "outputs": [],
   "source": []
  }
 ],
 "metadata": {
  "kernelspec": {
   "display_name": "Python 3 (ipykernel)",
   "language": "python",
   "name": "python3"
  },
  "language_info": {
   "codemirror_mode": {
    "name": "ipython",
    "version": 3
   },
   "file_extension": ".py",
   "mimetype": "text/x-python",
   "name": "python",
   "nbconvert_exporter": "python",
   "pygments_lexer": "ipython3",
   "version": "3.9.12"
  }
 },
 "nbformat": 4,
 "nbformat_minor": 5
}
