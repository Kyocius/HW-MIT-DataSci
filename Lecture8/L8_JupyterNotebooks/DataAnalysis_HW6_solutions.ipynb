{
 "cells": [
  {
   "cell_type": "markdown",
   "id": "7e8edcc5",
   "metadata": {},
   "source": [
    "__Read the data from the file “TopRight_20230803.txt” that we have used before into a pandas dataframe. Copy the data in the “TimeStamp” and “Pressure” columns into numpy arrays called X and y. This can be done  by copying the columns into a pandas series and using numpy.array() to convert the series into an array. We will use X (the TimeStamp) as input value and y (the Pressure) as target value for an AdaBoostRegressor. Use the numpy.reshape(-1,1) to change the data in the X array into the  2D array with shape (n,1) that the regressor fit function expects for the input.__"
   ]
  },
  {
   "cell_type": "code",
   "execution_count": 1,
   "id": "1ba3a5ec-a76c-41fe-a4e7-e0348e9290bc",
   "metadata": {},
   "outputs": [
    {
     "data": {
      "text/html": [
       "<div>\n",
       "<style scoped>\n",
       "    .dataframe tbody tr th:only-of-type {\n",
       "        vertical-align: middle;\n",
       "    }\n",
       "\n",
       "    .dataframe tbody tr th {\n",
       "        vertical-align: top;\n",
       "    }\n",
       "\n",
       "    .dataframe thead th {\n",
       "        text-align: right;\n",
       "    }\n",
       "</style>\n",
       "<table border=\"1\" class=\"dataframe\">\n",
       "  <thead>\n",
       "    <tr style=\"text-align: right;\">\n",
       "      <th></th>\n",
       "      <th>Event</th>\n",
       "      <th>Time</th>\n",
       "      <th>Date</th>\n",
       "      <th>TimeStamp</th>\n",
       "      <th>ADC1</th>\n",
       "      <th>ADC2</th>\n",
       "      <th>SiPM</th>\n",
       "      <th>Temp</th>\n",
       "      <th>Pressure</th>\n",
       "      <th>DeadTime</th>\n",
       "      <th>Coincident</th>\n",
       "      <th>ID</th>\n",
       "    </tr>\n",
       "  </thead>\n",
       "  <tbody>\n",
       "    <tr>\n",
       "      <th>0</th>\n",
       "      <td>1</td>\n",
       "      <td>0:00:07</td>\n",
       "      <td>1/1/2019</td>\n",
       "      <td>609</td>\n",
       "      <td>110.0</td>\n",
       "      <td>10.0</td>\n",
       "      <td>6.87</td>\n",
       "      <td>25.09</td>\n",
       "      <td>99976.19</td>\n",
       "      <td>95943</td>\n",
       "      <td>0</td>\n",
       "      <td>GuntherRoland</td>\n",
       "    </tr>\n",
       "    <tr>\n",
       "      <th>1</th>\n",
       "      <td>2</td>\n",
       "      <td>0:00:08</td>\n",
       "      <td>1/1/2019</td>\n",
       "      <td>1891</td>\n",
       "      <td>671.0</td>\n",
       "      <td>11.0</td>\n",
       "      <td>15.24</td>\n",
       "      <td>25.09</td>\n",
       "      <td>99976.70</td>\n",
       "      <td>53861</td>\n",
       "      <td>0</td>\n",
       "      <td>GuntherRoland</td>\n",
       "    </tr>\n",
       "    <tr>\n",
       "      <th>2</th>\n",
       "      <td>3</td>\n",
       "      <td>0:00:09</td>\n",
       "      <td>1/1/2019</td>\n",
       "      <td>2324</td>\n",
       "      <td>746.0</td>\n",
       "      <td>19.0</td>\n",
       "      <td>17.89</td>\n",
       "      <td>25.09</td>\n",
       "      <td>99977.05</td>\n",
       "      <td>1849</td>\n",
       "      <td>0</td>\n",
       "      <td>GuntherRoland</td>\n",
       "    </tr>\n",
       "    <tr>\n",
       "      <th>3</th>\n",
       "      <td>4</td>\n",
       "      <td>0:00:09</td>\n",
       "      <td>1/1/2019</td>\n",
       "      <td>2382</td>\n",
       "      <td>216.0</td>\n",
       "      <td>9.0</td>\n",
       "      <td>9.66</td>\n",
       "      <td>25.09</td>\n",
       "      <td>99977.05</td>\n",
       "      <td>1850</td>\n",
       "      <td>0</td>\n",
       "      <td>GuntherRoland</td>\n",
       "    </tr>\n",
       "    <tr>\n",
       "      <th>4</th>\n",
       "      <td>5</td>\n",
       "      <td>0:00:09</td>\n",
       "      <td>1/1/2019</td>\n",
       "      <td>2552</td>\n",
       "      <td>230.0</td>\n",
       "      <td>9.0</td>\n",
       "      <td>9.94</td>\n",
       "      <td>25.09</td>\n",
       "      <td>99977.05</td>\n",
       "      <td>49820</td>\n",
       "      <td>0</td>\n",
       "      <td>GuntherRoland</td>\n",
       "    </tr>\n",
       "    <tr>\n",
       "      <th>...</th>\n",
       "      <td>...</td>\n",
       "      <td>...</td>\n",
       "      <td>...</td>\n",
       "      <td>...</td>\n",
       "      <td>...</td>\n",
       "      <td>...</td>\n",
       "      <td>...</td>\n",
       "      <td>...</td>\n",
       "      <td>...</td>\n",
       "      <td>...</td>\n",
       "      <td>...</td>\n",
       "      <td>...</td>\n",
       "    </tr>\n",
       "    <tr>\n",
       "      <th>763296</th>\n",
       "      <td>763297</td>\n",
       "      <td>16:29:51</td>\n",
       "      <td>4/1/2019</td>\n",
       "      <td>318577118</td>\n",
       "      <td>84.0</td>\n",
       "      <td>7.0</td>\n",
       "      <td>6.21</td>\n",
       "      <td>29.72</td>\n",
       "      <td>99012.41</td>\n",
       "      <td>51798</td>\n",
       "      <td>0</td>\n",
       "      <td>GuntherRoland</td>\n",
       "    </tr>\n",
       "    <tr>\n",
       "      <th>763297</th>\n",
       "      <td>763298</td>\n",
       "      <td>16:29:51</td>\n",
       "      <td>4/1/2019</td>\n",
       "      <td>318577226</td>\n",
       "      <td>977.0</td>\n",
       "      <td>380.0</td>\n",
       "      <td>71.14</td>\n",
       "      <td>29.72</td>\n",
       "      <td>99012.41</td>\n",
       "      <td>1852</td>\n",
       "      <td>0</td>\n",
       "      <td>GuntherRoland</td>\n",
       "    </tr>\n",
       "    <tr>\n",
       "      <th>763298</th>\n",
       "      <td>763299</td>\n",
       "      <td>16:29:52</td>\n",
       "      <td>4/1/2019</td>\n",
       "      <td>318577936</td>\n",
       "      <td>226.0</td>\n",
       "      <td>7.0</td>\n",
       "      <td>9.83</td>\n",
       "      <td>29.72</td>\n",
       "      <td>99012.41</td>\n",
       "      <td>49834</td>\n",
       "      <td>0</td>\n",
       "      <td>GuntherRoland</td>\n",
       "    </tr>\n",
       "    <tr>\n",
       "      <th>763299</th>\n",
       "      <td>763300</td>\n",
       "      <td>16:29:53</td>\n",
       "      <td>4/1/2019</td>\n",
       "      <td>318578590</td>\n",
       "      <td>842.0</td>\n",
       "      <td>75.0</td>\n",
       "      <td>25.54</td>\n",
       "      <td>29.72</td>\n",
       "      <td>99012.41</td>\n",
       "      <td>49834</td>\n",
       "      <td>0</td>\n",
       "      <td>GuntherRoland</td>\n",
       "    </tr>\n",
       "    <tr>\n",
       "      <th>763300</th>\n",
       "      <td>763301</td>\n",
       "      <td>16:29:53</td>\n",
       "      <td>4/1/2019</td>\n",
       "      <td>318579019</td>\n",
       "      <td>216.0</td>\n",
       "      <td>8.0</td>\n",
       "      <td>9.65</td>\n",
       "      <td>29.72</td>\n",
       "      <td>99012.59</td>\n",
       "      <td>1853</td>\n",
       "      <td>0</td>\n",
       "      <td>GuntherRoland</td>\n",
       "    </tr>\n",
       "  </tbody>\n",
       "</table>\n",
       "<p>763301 rows × 12 columns</p>\n",
       "</div>"
      ],
      "text/plain": [
       "         Event      Time      Date  TimeStamp   ADC1   ADC2   SiPM   Temp  \\\n",
       "0            1   0:00:07  1/1/2019        609  110.0   10.0   6.87  25.09   \n",
       "1            2   0:00:08  1/1/2019       1891  671.0   11.0  15.24  25.09   \n",
       "2            3   0:00:09  1/1/2019       2324  746.0   19.0  17.89  25.09   \n",
       "3            4   0:00:09  1/1/2019       2382  216.0    9.0   9.66  25.09   \n",
       "4            5   0:00:09  1/1/2019       2552  230.0    9.0   9.94  25.09   \n",
       "...        ...       ...       ...        ...    ...    ...    ...    ...   \n",
       "763296  763297  16:29:51  4/1/2019  318577118   84.0    7.0   6.21  29.72   \n",
       "763297  763298  16:29:51  4/1/2019  318577226  977.0  380.0  71.14  29.72   \n",
       "763298  763299  16:29:52  4/1/2019  318577936  226.0    7.0   9.83  29.72   \n",
       "763299  763300  16:29:53  4/1/2019  318578590  842.0   75.0  25.54  29.72   \n",
       "763300  763301  16:29:53  4/1/2019  318579019  216.0    8.0   9.65  29.72   \n",
       "\n",
       "        Pressure  DeadTime  Coincident             ID  \n",
       "0       99976.19     95943           0  GuntherRoland  \n",
       "1       99976.70     53861           0  GuntherRoland  \n",
       "2       99977.05      1849           0  GuntherRoland  \n",
       "3       99977.05      1850           0  GuntherRoland  \n",
       "4       99977.05     49820           0  GuntherRoland  \n",
       "...          ...       ...         ...            ...  \n",
       "763296  99012.41     51798           0  GuntherRoland  \n",
       "763297  99012.41      1852           0  GuntherRoland  \n",
       "763298  99012.41     49834           0  GuntherRoland  \n",
       "763299  99012.41     49834           0  GuntherRoland  \n",
       "763300  99012.59      1853           0  GuntherRoland  \n",
       "\n",
       "[763301 rows x 12 columns]"
      ]
     },
     "execution_count": 1,
     "metadata": {},
     "output_type": "execute_result"
    }
   ],
   "source": [
    "import numpy as np\n",
    "import pandas as pd\n",
    "\n",
    "cw = pd.read_csv(\"../../Data/TopRight_20230803.txt\",skiprows=7,delim_whitespace=True, names = ['Event', 'Time', 'Date', 'TimeStamp', 'ADC1', 'ADC2', 'SiPM', 'Temp', 'Pressure', 'DeadTime', 'Coincident', 'ID'])\n",
    "cw\n"
   ]
  },
  {
   "cell_type": "markdown",
   "id": "eff32338",
   "metadata": {},
   "source": [
    "__Set up an AdaBoostRegressor like this: \n",
    "regr = AdaBoostRegressor(DecisionTreeRegressor(max_depth=4), n_estimators=300) \n",
    "and train the regressor using X as input and y as target (using fit()). Use the predict() function to predict a new value y2 for each X input.__\n"
   ]
  },
  {
   "cell_type": "code",
   "execution_count": 2,
   "id": "a5e440ca-6ff1-4f1f-9ee2-6fa58bb71930",
   "metadata": {},
   "outputs": [],
   "source": [
    "import numpy as np\n",
    "import matplotlib.pyplot as plt\n",
    "from sklearn.tree import DecisionTreeRegressor\n",
    "from sklearn.ensemble import AdaBoostRegressor\n",
    "\n",
    "X = np.array(cw[\"TimeStamp\"]).reshape(-1,1)\n",
    "y = np.array(cw[\"Pressure\"])\n",
    "\n",
    "# set up regressor\n",
    "regr = AdaBoostRegressor(DecisionTreeRegressor(max_depth=4), n_estimators=300)\n",
    "\n",
    "# train on pressure vs time data\n",
    "regr.fit(X,y)\n",
    "\n",
    "#predict values\n",
    "y2 = regr.predict(X)\n",
    "\n"
   ]
  },
  {
   "cell_type": "markdown",
   "id": "70aa4aba",
   "metadata": {},
   "source": [
    "__Q1: Plot original y vs X and y2 vs X as scatter plots. Do the predicted values follow the target values closely?__"
   ]
  },
  {
   "cell_type": "code",
   "execution_count": 3,
   "id": "a4e8a633",
   "metadata": {},
   "outputs": [
    {
     "data": {
      "image/png": "[encoded data removed]",
      "text/plain": [
       "<Figure size 432x432 with 1 Axes>"
      ]
     },
     "metadata": {
      "needs_background": "light"
     },
     "output_type": "display_data"
    }
   ],
   "source": [
    "# plot predicted values on top of input values\n",
    "plt.figure(figsize=(6,6))\n",
    "plt.ylim(98900,100100)\n",
    "plt.scatter(X,y)\n",
    "plt.scatter(X,y2)\n",
    "\n",
    "plt.xlabel(\"TimeStamp (input)\")\n",
    "plt.ylabel(\"Pressure (target)\")\n",
    "plt.show()"
   ]
  },
  {
   "cell_type": "markdown",
   "id": "53dce833",
   "metadata": {},
   "source": [
    "__A1: No__"
   ]
  },
  {
   "cell_type": "markdown",
   "id": "1ee8b699",
   "metadata": {},
   "source": [
    "__Q2: Plot the difference d between all corresponding target values y and predicted values y2. What is the shape of this distribution?__"
   ]
  },
  {
   "cell_type": "code",
   "execution_count": 4,
   "id": "667b3494",
   "metadata": {
    "scrolled": false
   },
   "outputs": [
    {
     "data": {
      "image/png": "[encoded data removed]",
      "text/plain": [
       "<Figure size 432x288 with 1 Axes>"
      ]
     },
     "metadata": {
      "needs_background": "light"
     },
     "output_type": "display_data"
    }
   ],
   "source": [
    "d = y - y2\n",
    "counts, edges, blabla = plt.hist(d)\n",
    "plt.xlabel(\"Target - Prediction\")\n",
    "plt.show()"
   ]
  },
  {
   "cell_type": "markdown",
   "id": "18c38631",
   "metadata": {},
   "source": [
    "__A2: Approximately Gaussian__"
   ]
  },
  {
   "cell_type": "markdown",
   "id": "4f8a2a09",
   "metadata": {},
   "source": [
    "__Q3: What is the standard deviation?__"
   ]
  },
  {
   "cell_type": "code",
   "execution_count": 5,
   "id": "7e831a6a",
   "metadata": {},
   "outputs": [
    {
     "name": "stdout",
     "output_type": "stream",
     "text": [
      "A3: The standard deviation is 31.6\n"
     ]
    }
   ],
   "source": [
    "print(f\"A3: The standard deviation is {np.std(d):.3}\")\n"
   ]
  },
  {
   "cell_type": "markdown",
   "id": "f1c5c24c",
   "metadata": {},
   "source": [
    "__Q4: Increase the max_depth of the DecisionTreeRegressor to 10. Repeat the training and prediction, and replot the X vs y scatterplot and the plot of the y2 - y difference (note that the training step may take several minutes). Does the fit improve? What is the standard deviation now?__"
   ]
  },
  {
   "cell_type": "code",
   "execution_count": 6,
   "id": "922072b1",
   "metadata": {},
   "outputs": [
    {
     "data": {
      "image/png": "[encoded data removed]",
      "text/plain": [
       "<Figure size 432x432 with 1 Axes>"
      ]
     },
     "metadata": {
      "needs_background": "light"
     },
     "output_type": "display_data"
    },
    {
     "data": {
      "image/png": "[encoded data removed]",
      "text/plain": [
       "<Figure size 432x288 with 1 Axes>"
      ]
     },
     "metadata": {
      "needs_background": "light"
     },
     "output_type": "display_data"
    }
   ],
   "source": [
    "# set up regressor\n",
    "regr = AdaBoostRegressor(DecisionTreeRegressor(max_depth=10), n_estimators=300)\n",
    "\n",
    "# train on pressure vs time data\n",
    "regr.fit(X,y)\n",
    "\n",
    "#predict values\n",
    "y2 = regr.predict(X)\n",
    "\n",
    "# plot predicted values on top of input values\n",
    "plt.figure(figsize=(6,6))\n",
    "plt.ylim(98900,100100)\n",
    "plt.scatter(X,y)\n",
    "plt.scatter(X,y2)\n",
    "\n",
    "plt.xlabel(\"TimeStamp (input)\")\n",
    "plt.ylabel(\"Pressure (target)\")\n",
    "plt.show()\n",
    "\n",
    "d = y - y2\n",
    "counts, edges, blabla = plt.hist(d)\n",
    "plt.xlabel(\"Target - Prediction\")\n",
    "plt.show()"
   ]
  },
  {
   "cell_type": "code",
   "execution_count": 7,
   "id": "1233ec59",
   "metadata": {},
   "outputs": [
    {
     "name": "stdout",
     "output_type": "stream",
     "text": [
      "A4: The standard deviation for max_depth = 10 is 1.25\n"
     ]
    }
   ],
   "source": [
    "print(f\"A4: The standard deviation for max_depth = 10 is {np.std(d):.3}\")\n"
   ]
  },
  {
   "cell_type": "markdown",
   "id": "17e92a8c",
   "metadata": {},
   "source": [
    "__Q5: Read the file “data_HW6.txt”. This contains 20000 entries, with features x1,x2,x3 and class “sig” or “bkg”. Set up an MLP regressor like so:\n",
    "mlp = MLPClassifier(solver='adam', hidden_layer_sizes=(5, 5), max_iter=10000)\n",
    "Using only feature x3, split the data set into 70% training data and 30% test data, fit the MLP regressor to the data and predict the class for each test object. Use metrics.accuracy_score() to check the accuracy of the prediction. Which accuracy do you get using only feature x3?__\n"
   ]
  },
  {
   "cell_type": "code",
   "execution_count": 8,
   "id": "f2e65bb3-ad90-45eb-add1-465a213cd1d0",
   "metadata": {},
   "outputs": [
    {
     "data": {
      "text/plain": [
       "<AxesSubplot:xlabel='x1', ylabel='x2'>"
      ]
     },
     "execution_count": 8,
     "metadata": {},
     "output_type": "execute_result"
    },
    {
     "data": {
      "image/png": "[encoded data removed]",
      "text/plain": [
       "<Figure size 432x288 with 1 Axes>"
      ]
     },
     "metadata": {
      "needs_background": "light"
     },
     "output_type": "display_data"
    }
   ],
   "source": [
    "import pandas as pd\n",
    "\n",
    "data = pd.read_csv(\"../../Data/data_HW6.txt\")\n",
    "s1 = data[\"x1\"]\n",
    "s2 = data[\"x2\"]\n",
    "s3 = data[\"x3\"]\n",
    "typ = data[\"Class\"]\n",
    "\n",
    "data.plot.scatter(\"x1\",\"x2\")\n"
   ]
  },
  {
   "cell_type": "markdown",
   "id": "9e9096ea",
   "metadata": {},
   "source": [
    "__Q5: Set up an MLP regressor like so: mlp = MLPClassifier(solver='adam', hidden_layer_sizes=(5, 5), max_iter=10000) Using only feature x3, split the data set into 70% training data and 30% test data, fit the MLP regressor to the data and predict the class for each test object. Use metrics.accuracy_score() to check the accuracy of the prediction. Which accuracy do you get using only feature x3?__"
   ]
  },
  {
   "cell_type": "code",
   "execution_count": 9,
   "id": "4e21ce76-723a-4b1b-8757-0c48269ab297",
   "metadata": {},
   "outputs": [
    {
     "name": "stdout",
     "output_type": "stream",
     "text": [
      "A5: Accuracy is 0.507\n"
     ]
    }
   ],
   "source": [
    "\n",
    "# Import train_test_split function\n",
    "from sklearn.model_selection import train_test_split\n",
    "#Import scikit-learn metrics module for accuracy calculation\n",
    "from sklearn import metrics\n",
    "#Import scikit-learn MLP classifier\n",
    "from sklearn.neural_network import MLPClassifier \n",
    "\n",
    "\n",
    "# get feature and target data for each object\n",
    "x1 = np.array(data[\"x1\"])\n",
    "x2 = np.array(data[\"x2\"])\n",
    "x3 = np.array(data[\"x3\"])\n",
    "\n",
    "# Make 2D array containing input features\n",
    "# use only feature x3:\n",
    "\n",
    "X = np.empty((len(x1),1))\n",
    "for i in range(len(x1)):\n",
    "    X[i] = x3[i]\n",
    "\n",
    "# make array containing information on object class\n",
    "y = np.array(data[\"Class\"])\n",
    "\n",
    "\n",
    "# Split dataset into training set (70%) and test set (30%)\n",
    "X_train, X_test, y_train, y_test = train_test_split(X, y, test_size=0.3)\n",
    "\n",
    "# Create MLP classifer object with 2 hidden layers with 5 perceptrons each\n",
    "mlp = MLPClassifier(solver='adam', hidden_layer_sizes=(5, 5), max_iter=10000)\n",
    "\n",
    "# Train MLP Classifer\n",
    "model = mlp.fit(X_train, y_train)\n",
    "\n",
    "#Predict the response for test dataset\n",
    "y_pred = model.predict(X_test)\n",
    "\n",
    "# Model Accuracy, how often is the classifier correct?\n",
    "print(f\"A5: Accuracy is {metrics.accuracy_score(y_test, y_pred):.3}\")"
   ]
  },
  {
   "cell_type": "markdown",
   "id": "3dcd2c75",
   "metadata": {},
   "source": [
    "__Q6: Now use all 3 features x1, x2, x3 and retrain the same regressor. Does the classification improve? What is the accuracy now?__"
   ]
  },
  {
   "cell_type": "code",
   "execution_count": 10,
   "id": "682b8edd",
   "metadata": {},
   "outputs": [
    {
     "name": "stdout",
     "output_type": "stream",
     "text": [
      "A5: Accuracy is 0.997\n"
     ]
    }
   ],
   "source": [
    "# Make 2D array containing input features\n",
    "# use all features x1,x2,x3:\n",
    "\n",
    "X = np.empty((len(x1),3))\n",
    "for i in range(len(x1)):\n",
    "    X[i] = [x1[i],x2[i],x3[i]]\n",
    "\n",
    "# make array containing information on object class\n",
    "y = np.array(data[\"Class\"])\n",
    "\n",
    "\n",
    "# Split dataset into training set (70%) and test set (30%)\n",
    "X_train, X_test, y_train, y_test = train_test_split(X, y, test_size=0.3)\n",
    "\n",
    "# Create MLP classifer object with 2 hidden layers with 5 perceptrons each\n",
    "mlp = MLPClassifier(solver='adam', hidden_layer_sizes=(5, 5), max_iter=10000)\n",
    "\n",
    "# Train MLP Classifer\n",
    "model = mlp.fit(X_train, y_train)\n",
    "\n",
    "#Predict the response for test dataset\n",
    "y_pred = model.predict(X_test)\n",
    "\n",
    "# Model Accuracy, how often is the classifier correct?\n",
    "print(f\"A5: Accuracy is {metrics.accuracy_score(y_test, y_pred):.3}\")"
   ]
  },
  {
   "cell_type": "code",
   "execution_count": null,
   "id": "da118984",
   "metadata": {},
   "outputs": [],
   "source": []
  }
 ],
 "metadata": {
  "kernelspec": {
   "display_name": "Python 3 (ipykernel)",
   "language": "python",
   "name": "python3"
  },
  "language_info": {
   "codemirror_mode": {
    "name": "ipython",
    "version": 3
   },
   "file_extension": ".py",
   "mimetype": "text/x-python",
   "name": "python",
   "nbconvert_exporter": "python",
   "pygments_lexer": "ipython3",
   "version": "3.9.12"
  }
 },
 "nbformat": 4,
 "nbformat_minor": 5
}
