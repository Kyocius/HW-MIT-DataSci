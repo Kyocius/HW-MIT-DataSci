{
 "cells": [
  {
   "cell_type": "markdown",
   "id": "39f5c2d1",
   "metadata": {},
   "source": [
    "# k-means clustering with scikit-learn\n",
    "\n",
    "Using kmeans to cluster the digits dataset"
   ]
  },
  {
   "cell_type": "code",
   "execution_count": 6,
   "id": "cfaae649",
   "metadata": {
    "scrolled": true
   },
   "outputs": [
    {
     "data": {
      "image/png": "[encoded data removed]",
      "text/plain": [
       "<Figure size 576x72 with 5 Axes>"
      ]
     },
     "metadata": {
      "needs_background": "light"
     },
     "output_type": "display_data"
    }
   ],
   "source": [
    "# import standard stuff\n",
    "import matplotlib.pyplot as plt\n",
    "import numpy as np\n",
    "\n",
    "import numpy as np\n",
    "\n",
    "from sklearn.datasets import load_digits\n",
    "\n",
    "\n",
    "\n",
    "#import the digits dataset\n",
    "digits = load_digits()\n",
    "\n",
    "#look at the first 5 images\n",
    "fig, axes = plt.subplots(nrows=1, ncols=5, figsize=(8, 1))\n",
    "for i in range(5):\n",
    "    ax = axes[i]\n",
    "    ax.set_axis_off()\n",
    "    ax.imshow(digits.images[i], cmap=plt.cm.gray_r, interpolation=\"nearest\")\n",
    "    title = \"Image \" + str(digits.target[i])\n",
    "    ax.set_title(title)"
   ]
  },
  {
   "cell_type": "code",
   "execution_count": 7,
   "id": "a43977e6",
   "metadata": {},
   "outputs": [
    {
     "name": "stdout",
     "output_type": "stream",
     "text": [
      "# digits: 10; # samples: 1797; # features 64\n"
     ]
    }
   ],
   "source": [
    "# we can also directly get the X,y feature and target arrays\n",
    "# if we use \"return_X_y = True\n",
    "\n",
    "data, labels = load_digits(return_X_y=True)\n",
    "(n_samples, n_features), n_digits = data.shape, np.unique(labels).size\n",
    "print(f\"# digits: {n_digits}; # samples: {n_samples}; # features {n_features}\")"
   ]
  },
  {
   "cell_type": "code",
   "execution_count": 8,
   "id": "27461d96",
   "metadata": {},
   "outputs": [],
   "source": [
    "# below is a more elaborate example of evaluation of a ML algorithm\n",
    "# we will use a number of different metrics\n",
    "# and a pipeline\n",
    "# data will be pre-processed with StandardScaler, as before\n",
    "\n",
    "# we will use time to check the run-time of different options\n",
    "from time import time\n",
    "\n",
    "from sklearn import metrics\n",
    "from sklearn.pipeline import make_pipeline\n",
    "from sklearn.preprocessing import StandardScaler\n",
    "\n",
    "\n",
    "def bench_k_means(kmeans, name, data, labels):\n",
    "    \"\"\"Benchmark to evaluate the KMeans initialization methods.\n",
    "\n",
    "    Parameters\n",
    "    ----------\n",
    "    kmeans : KMeans instance\n",
    "        A :class:`~sklearn.cluster.KMeans` instance with the initialization\n",
    "        already set.\n",
    "    name : str\n",
    "        Name given to the strategy. It will be used to show the results in a\n",
    "        table.\n",
    "    data : ndarray of shape (n_samples, n_features)\n",
    "        The data to cluster.\n",
    "    labels : ndarray of shape (n_samples,)\n",
    "        The labels used to compute the clustering metrics which requires some\n",
    "        supervision.\n",
    "    \"\"\"\n",
    "    t0 = time()\n",
    "    \n",
    "# make a sklearn pipeline\n",
    "# a pipeline is a sequence of data transformers \n",
    "# with an optional final predictor.\n",
    "\n",
    "    estimator = make_pipeline(StandardScaler(), kmeans).fit(data)\n",
    "    \n",
    "    fit_time = time() - t0\n",
    "    results = [name, fit_time, estimator[-1].inertia_]\n",
    "\n",
    "# Define the metrics which require only the true labels and estimator\n",
    "# labels, not the full dataset\n",
    "\n",
    "# For these scores, 0 is worst and 1 is best\n",
    "\n",
    "# Homogeneity: Does each cluster only contain members of a single class?\n",
    "# Completeness: Are all members of a class assigned to a single cluster?\n",
    "# v-measure combines homogeneity and completeness to a single score\n",
    "# rand index measures how similar assignments are\n",
    "# mutual information measures agreement of assignents. adjusted is normalized\n",
    "# against chance agreements\n",
    "\n",
    "    clustering_metrics = [\n",
    "        metrics.homogeneity_score,\n",
    "        metrics.completeness_score,\n",
    "        metrics.v_measure_score,\n",
    "        metrics.adjusted_rand_score,\n",
    "        metrics.adjusted_mutual_info_score,\n",
    "    ]\n",
    "    results += [m(labels, estimator[-1].labels_) for m in clustering_metrics]\n",
    "\n",
    "# The silhouette score requires the full dataset and the estimator labels\n",
    "# it ranges from -1 (bad) to +1 (good) and is based on intra-cluster distance (a)\n",
    "# and distance to nearest cluster a sample does not belong to (b)\n",
    "# the score is then (b-a)/max(a,b)\n",
    "\n",
    "    results += [\n",
    "        metrics.silhouette_score(\n",
    "            data,\n",
    "            estimator[-1].labels_,\n",
    "            metric=\"euclidean\",\n",
    "            sample_size=300,\n",
    "        )\n",
    "    ]\n",
    "\n",
    "# Show the results as a table using this format string\n",
    "    formatter_result = (\n",
    "        \"{:9s}\\t{:.3f}s\\t{:.0f}\\t{:.3f}\\t{:.3f}\\t{:.3f}\\t{:.3f}\\t{:.3f}\\t{:.3f}\"\n",
    "    )\n",
    "    print(formatter_result.format(*results))\n"
   ]
  },
  {
   "cell_type": "code",
   "execution_count": 9,
   "id": "5515d133",
   "metadata": {},
   "outputs": [
    {
     "name": "stdout",
     "output_type": "stream",
     "text": [
      "__________________________________________________________________________________\n",
      "init\t\ttime\tinertia\thomo\tcompl\tv-meas\tARI\tAMI\tsilhouette\n",
      "random   \t0.046s\t69735\t0.681\t0.723\t0.701\t0.574\t0.698\t0.178\n",
      "k-means++\t0.038s\t69545\t0.598\t0.645\t0.621\t0.469\t0.617\t0.162\n",
      "PCA-based\t0.013s\t72713\t0.637\t0.659\t0.648\t0.521\t0.644\t0.144\n",
      "__________________________________________________________________________________\n"
     ]
    }
   ],
   "source": [
    "from sklearn.cluster import KMeans\n",
    "from sklearn.decomposition import PCA\n",
    "\n",
    "print(82 * \"_\")\n",
    "print(\"init\\t\\ttime\\tinertia\\thomo\\tcompl\\tv-meas\\tARI\\tAMI\\tsilhouette\")\n",
    "\n",
    "# we will do the clustering on this data set in three different ways\n",
    "# we know the number of clusters we are looking for, i.e., 10 for the 10 digits\n",
    "\n",
    "# \"random\" just picks k initial centroids at random from the data points\n",
    "# we do this n_init=4 times\n",
    "kmeans = KMeans(init=\"random\", n_clusters=n_digits, n_init=4, random_state=0)\n",
    "bench_k_means(kmeans=kmeans, name=\"random\", data=data, labels=labels)\n",
    "\n",
    "# k-means++ is a clever way of randomly picking the initial centroids \n",
    "# new centroid are chosen based distance-squared to already chosen centers\n",
    "# we do this n_init=4 times\n",
    "\n",
    "kmeans = KMeans(init=\"k-means++\", n_clusters=n_digits, n_init=4, random_state=0)\n",
    "bench_k_means(kmeans=kmeans, name=\"k-means++\", data=data, labels=labels)\n",
    "\n",
    "# finally, we can use a PCA analysis to help with picking the initial centroids\n",
    "\n",
    "pca = PCA(n_components=n_digits).fit(data)\n",
    "kmeans = KMeans(init=pca.components_, n_clusters=n_digits, n_init=1)\n",
    "bench_k_means(kmeans=kmeans, name=\"PCA-based\", data=data, labels=labels)\n",
    "\n",
    "print(82 * \"_\")"
   ]
  },
  {
   "cell_type": "markdown",
   "id": "f5278270",
   "metadata": {},
   "source": [
    "We would like to plot the data and look at the clusters. But we have 64 features (8x8 pixels). Can't make a 64-dimensional plot...\n",
    "\n",
    "Solution: Use PCA to find the two most important components. Plot the data and clusters in this 2D space!\n"
   ]
  },
  {
   "cell_type": "code",
   "execution_count": 10,
   "id": "d20908cd",
   "metadata": {},
   "outputs": [
    {
     "data": {
      "image/png": "[encoded data removed]",
      "text/plain": [
       "<Figure size 432x288 with 1 Axes>"
      ]
     },
     "metadata": {},
     "output_type": "display_data"
    }
   ],
   "source": [
    "import matplotlib.pyplot as plt\n",
    "\n",
    "# Do the PCA with 2 components. Each 64-feature point in \"data\"\n",
    "# then has a corresponding 2 feature data point in \"reduced_data\"\n",
    "reduced_data = PCA(n_components=2).fit_transform(data)\n",
    "\n",
    "# Run kmeans with the \"k-means++\" initialization on the reduced data\n",
    "kmeans = KMeans(init=\"k-means++\", n_clusters=n_digits, n_init=4)\n",
    "kmeans.fit(reduced_data)\n",
    "\n",
    "# Now plot the results in the 2D PCA component space\n",
    "\n",
    "# Step size of the mesh\n",
    "h = 0.02  # point in the mesh [x_min, x_max]x[y_min, y_max].\n",
    "\n",
    "# Plot the decision boundary. For that, we will assign a color to each point\n",
    "# in the 2D PCA component space\n",
    "\n",
    "# Get the limits of first component - that will be x-coordinate\n",
    "x_min, x_max = reduced_data[:, 0].min() - 1, reduced_data[:, 0].max() + 1\n",
    "\n",
    "# Get the limits of first component - that will be x-coordinate\n",
    "y_min, y_max = reduced_data[:, 1].min() - 1, reduced_data[:, 1].max() + 1\n",
    "\n",
    "# Make a 2D grid from xmin to xmax and ymin to ymax with stepsize h\n",
    "xx, yy = np.meshgrid(np.arange(x_min, x_max, h), np.arange(y_min, y_max, h))\n",
    "\n",
    "# Obtain labels for each point in mesh from the model trained on the \n",
    "# PCA components. For each x and y coordinate on the grid, the model\n",
    "# predicts which cluster the (x,y) point belongs to\n",
    "Z = kmeans.predict(np.c_[xx.ravel(), yy.ravel()])\n",
    "\n",
    "# Put the result into a color plot\n",
    "Z = Z.reshape(xx.shape)\n",
    "\n",
    "plt.figure(1)\n",
    "# clear the figure\n",
    "plt.clf()\n",
    "plt.imshow(\n",
    "    Z,\n",
    "    interpolation=\"nearest\",\n",
    "    extent=(xx.min(), xx.max(), yy.min(), yy.max()),\n",
    "    cmap=plt.cm.Paired,\n",
    "    aspect=\"auto\",\n",
    "    origin=\"lower\",\n",
    ")\n",
    "\n",
    "# plot the data that were transformed into the 2D PCA component space\n",
    "plt.plot(reduced_data[:, 0], reduced_data[:, 1], \"k.\", markersize=2)\n",
    "# Plot the centroids as a white X\n",
    "centroids = kmeans.cluster_centers_\n",
    "plt.scatter(\n",
    "    centroids[:, 0],\n",
    "    centroids[:, 1],\n",
    "    marker=\"x\",\n",
    "    s=169,\n",
    "    linewidths=3,\n",
    "    color=\"w\",\n",
    "    zorder=10,\n",
    ")\n",
    "\n",
    "plt.title(\n",
    "    \"K-means clustering on the digits dataset (PCA-reduced data)\\n\"\n",
    "    \"Centroids are marked with white cross\"\n",
    ")\n",
    "plt.xlim(x_min, x_max)\n",
    "plt.ylim(y_min, y_max)\n",
    "plt.xticks(())\n",
    "plt.yticks(())\n",
    "plt.show()"
   ]
  },
  {
   "cell_type": "code",
   "execution_count": null,
   "id": "85ffe96b",
   "metadata": {},
   "outputs": [],
   "source": []
  }
 ],
 "metadata": {
  "kernelspec": {
   "display_name": "Python 3 (ipykernel)",
   "language": "python",
   "name": "python3"
  },
  "language_info": {
   "codemirror_mode": {
    "name": "ipython",
    "version": 3
   },
   "file_extension": ".py",
   "mimetype": "text/x-python",
   "name": "python",
   "nbconvert_exporter": "python",
   "pygments_lexer": "ipython3",
   "version": "3.9.12"
  }
 },
 "nbformat": 4,
 "nbformat_minor": 5
}
