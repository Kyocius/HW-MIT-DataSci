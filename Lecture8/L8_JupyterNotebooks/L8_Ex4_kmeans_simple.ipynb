{
 "cells": [
  {
   "cell_type": "markdown",
   "id": "178654f2",
   "metadata": {},
   "source": [
    "# k-means clustering with scikit-learn\n",
    "\n",
    "Simple example of k-means clustering using gaussian blobs "
   ]
  },
  {
   "cell_type": "code",
   "execution_count": null,
   "id": "cfaae649",
   "metadata": {},
   "outputs": [],
   "source": [
    "# import standard stuff\n",
    "import matplotlib.pyplot as plt\n",
    "import numpy as np\n",
    "\n",
    "from sklearn.datasets import make_blobs\n",
    "\n",
    "n_samples = 1000\n",
    "\n",
    "X, y = make_blobs(n_samples=n_samples,random_state = 50)\n",
    "\n",
    "fig, axs = plt.subplots(figsize=(6,6))\n",
    "\n",
    "plt.scatter(X[:, 0], X[:, 1], c=y)\n",
    "plt.title(\"Three Gaussian blobs\")\n",
    "plt.show()"
   ]
  },
  {
   "cell_type": "code",
   "execution_count": null,
   "id": "27461d96",
   "metadata": {},
   "outputs": [],
   "source": [
    "#import k-means module\n",
    "from sklearn.cluster import KMeans\n",
    "\n",
    "# run k-means on the input data\n",
    "# need to specify the number of clusters\n",
    "# k-means can pick the location of the seeds automatically\n",
    "\n",
    "kmeans = KMeans(n_clusters=3, n_init=\"auto\").fit(X)\n",
    "y_pred = kmeans.predict(X)\n",
    "\n",
    "fig, axes = plt.subplots(nrows=1, ncols=2, figsize=(8,4))\n",
    "axes[0].scatter(X[:, 0], X[:, 1], c=y)\n",
    "axes[0].set_title(\"Input clusters\")\n",
    "axes[1].scatter(X[:, 0], X[:, 1], c=y_pred)\n",
    "axes[1].set_title(\"Predicted clusters\")\n",
    "\n",
    "# plot the centroids on top of the kmeans clusters\n",
    "centroids = kmeans.cluster_centers_\n",
    "plt.scatter(\n",
    "    centroids[:, 0],\n",
    "    centroids[:, 1],\n",
    "    marker=\"x\",\n",
    "    s=169,\n",
    "    linewidths=3,\n",
    "    color=\"w\",\n",
    "    zorder=10,\n",
    ")\n",
    "plt.show()\n"
   ]
  },
  {
   "cell_type": "markdown",
   "id": "a89d38db",
   "metadata": {},
   "source": [
    "What if we give kmeans the wrong number of clusters to find?"
   ]
  },
  {
   "cell_type": "code",
   "execution_count": null,
   "id": "d20908cd",
   "metadata": {},
   "outputs": [],
   "source": [
    "kmeans = KMeans(n_clusters=2, random_state=0, n_init=\"auto\").fit(X)\n",
    "y_pred2 = kmeans.predict(X)\n",
    "\n",
    "kmeans = KMeans(n_clusters=4, random_state=0, n_init=\"auto\").fit(X)\n",
    "y_pred4 = kmeans.predict(X)\n",
    "\n",
    "fig, axes = plt.subplots(nrows=1, ncols=2, figsize=(8,4))\n",
    "axes[0].scatter(X[:, 0], X[:, 1], c=y_pred2)\n",
    "axes[0].set_title(\"For k=2 clusters\")\n",
    "axes[1].scatter(X[:, 0], X[:, 1], c=y_pred4)\n",
    "axes[1].set_title(\"For k=4 clusters\")\n",
    "plt.show()"
   ]
  },
  {
   "cell_type": "code",
   "execution_count": null,
   "id": "85ffe96b",
   "metadata": {},
   "outputs": [],
   "source": []
  }
 ],
 "metadata": {
  "kernelspec": {
   "display_name": "Python 3 (ipykernel)",
   "language": "python",
   "name": "python3"
  },
  "language_info": {
   "codemirror_mode": {
    "name": "ipython",
    "version": 3
   },
   "file_extension": ".py",
   "mimetype": "text/x-python",
   "name": "python",
   "nbconvert_exporter": "python",
   "pygments_lexer": "ipython3",
   "version": "3.9.12"
  }
 },
 "nbformat": 4,
 "nbformat_minor": 5
}
