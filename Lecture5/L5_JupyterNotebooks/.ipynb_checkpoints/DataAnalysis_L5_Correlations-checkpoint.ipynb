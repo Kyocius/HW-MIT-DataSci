{
 "cells": [
  {
   "cell_type": "markdown",
   "id": "8a1f943d",
   "metadata": {},
   "source": [
    "# Correlations\n",
    "\n",
    "An essential task in data analyses or data science is to find __correlations__ between different variables or observables\n",
    "\n",
    "Such correlations can be obvious to the naked eye, or they may need very careful analysis\n",
    "\n",
    "Let's look at some examples"
   ]
  },
  {
   "cell_type": "code",
   "execution_count": 212,
   "id": "74b681a5",
   "metadata": {},
   "outputs": [],
   "source": [
    "import numpy as np\n",
    "import pandas as pd\n",
    "import matplotlib.pyplot as plt\n",
    "\n",
    "\n",
    "data = pd.read_csv(\"../../Data/data_HW1.txt\",delim_whitespace=True)"
   ]
  },
  {
   "cell_type": "code",
   "execution_count": 213,
   "id": "94ee4c8f",
   "metadata": {},
   "outputs": [
    {
     "data": {
      "text/html": [
       "<div>\n",
       "<style scoped>\n",
       "    .dataframe tbody tr th:only-of-type {\n",
       "        vertical-align: middle;\n",
       "    }\n",
       "\n",
       "    .dataframe tbody tr th {\n",
       "        vertical-align: top;\n",
       "    }\n",
       "\n",
       "    .dataframe thead th {\n",
       "        text-align: right;\n",
       "    }\n",
       "</style>\n",
       "<table border=\"1\" class=\"dataframe\">\n",
       "  <thead>\n",
       "    <tr style=\"text-align: right;\">\n",
       "      <th></th>\n",
       "      <th>x</th>\n",
       "      <th>y</th>\n",
       "      <th>x.1</th>\n",
       "      <th>y.1</th>\n",
       "      <th>x.2</th>\n",
       "      <th>y.2</th>\n",
       "      <th>x.3</th>\n",
       "      <th>y.3</th>\n",
       "    </tr>\n",
       "  </thead>\n",
       "  <tbody>\n",
       "    <tr>\n",
       "      <th>0</th>\n",
       "      <td>10.0</td>\n",
       "      <td>8.04</td>\n",
       "      <td>10.0</td>\n",
       "      <td>9.14</td>\n",
       "      <td>10.0</td>\n",
       "      <td>7.46</td>\n",
       "      <td>8.0</td>\n",
       "      <td>6.58</td>\n",
       "    </tr>\n",
       "    <tr>\n",
       "      <th>1</th>\n",
       "      <td>8.0</td>\n",
       "      <td>6.95</td>\n",
       "      <td>8.0</td>\n",
       "      <td>8.14</td>\n",
       "      <td>8.0</td>\n",
       "      <td>6.77</td>\n",
       "      <td>8.0</td>\n",
       "      <td>5.76</td>\n",
       "    </tr>\n",
       "    <tr>\n",
       "      <th>2</th>\n",
       "      <td>13.0</td>\n",
       "      <td>7.58</td>\n",
       "      <td>13.0</td>\n",
       "      <td>8.74</td>\n",
       "      <td>13.0</td>\n",
       "      <td>12.74</td>\n",
       "      <td>8.0</td>\n",
       "      <td>7.71</td>\n",
       "    </tr>\n",
       "    <tr>\n",
       "      <th>3</th>\n",
       "      <td>9.0</td>\n",
       "      <td>8.81</td>\n",
       "      <td>9.0</td>\n",
       "      <td>8.77</td>\n",
       "      <td>9.0</td>\n",
       "      <td>7.11</td>\n",
       "      <td>8.0</td>\n",
       "      <td>8.84</td>\n",
       "    </tr>\n",
       "    <tr>\n",
       "      <th>4</th>\n",
       "      <td>11.0</td>\n",
       "      <td>8.33</td>\n",
       "      <td>11.0</td>\n",
       "      <td>9.26</td>\n",
       "      <td>11.0</td>\n",
       "      <td>7.81</td>\n",
       "      <td>8.0</td>\n",
       "      <td>8.47</td>\n",
       "    </tr>\n",
       "    <tr>\n",
       "      <th>5</th>\n",
       "      <td>14.0</td>\n",
       "      <td>9.96</td>\n",
       "      <td>14.0</td>\n",
       "      <td>8.10</td>\n",
       "      <td>14.0</td>\n",
       "      <td>8.84</td>\n",
       "      <td>8.0</td>\n",
       "      <td>7.04</td>\n",
       "    </tr>\n",
       "    <tr>\n",
       "      <th>6</th>\n",
       "      <td>6.0</td>\n",
       "      <td>7.24</td>\n",
       "      <td>6.0</td>\n",
       "      <td>6.13</td>\n",
       "      <td>6.0</td>\n",
       "      <td>6.08</td>\n",
       "      <td>8.0</td>\n",
       "      <td>5.25</td>\n",
       "    </tr>\n",
       "    <tr>\n",
       "      <th>7</th>\n",
       "      <td>4.0</td>\n",
       "      <td>4.26</td>\n",
       "      <td>4.0</td>\n",
       "      <td>3.10</td>\n",
       "      <td>4.0</td>\n",
       "      <td>5.39</td>\n",
       "      <td>19.0</td>\n",
       "      <td>12.50</td>\n",
       "    </tr>\n",
       "    <tr>\n",
       "      <th>8</th>\n",
       "      <td>12.0</td>\n",
       "      <td>10.84</td>\n",
       "      <td>12.0</td>\n",
       "      <td>9.13</td>\n",
       "      <td>12.0</td>\n",
       "      <td>8.15</td>\n",
       "      <td>8.0</td>\n",
       "      <td>5.56</td>\n",
       "    </tr>\n",
       "    <tr>\n",
       "      <th>9</th>\n",
       "      <td>7.0</td>\n",
       "      <td>4.82</td>\n",
       "      <td>7.0</td>\n",
       "      <td>7.26</td>\n",
       "      <td>7.0</td>\n",
       "      <td>6.42</td>\n",
       "      <td>8.0</td>\n",
       "      <td>7.91</td>\n",
       "    </tr>\n",
       "    <tr>\n",
       "      <th>10</th>\n",
       "      <td>5.0</td>\n",
       "      <td>5.68</td>\n",
       "      <td>5.0</td>\n",
       "      <td>4.74</td>\n",
       "      <td>5.0</td>\n",
       "      <td>5.73</td>\n",
       "      <td>8.0</td>\n",
       "      <td>6.89</td>\n",
       "    </tr>\n",
       "  </tbody>\n",
       "</table>\n",
       "</div>"
      ],
      "text/plain": [
       "       x      y   x.1   y.1   x.2    y.2   x.3    y.3\n",
       "0   10.0   8.04  10.0  9.14  10.0   7.46   8.0   6.58\n",
       "1    8.0   6.95   8.0  8.14   8.0   6.77   8.0   5.76\n",
       "2   13.0   7.58  13.0  8.74  13.0  12.74   8.0   7.71\n",
       "3    9.0   8.81   9.0  8.77   9.0   7.11   8.0   8.84\n",
       "4   11.0   8.33  11.0  9.26  11.0   7.81   8.0   8.47\n",
       "5   14.0   9.96  14.0  8.10  14.0   8.84   8.0   7.04\n",
       "6    6.0   7.24   6.0  6.13   6.0   6.08   8.0   5.25\n",
       "7    4.0   4.26   4.0  3.10   4.0   5.39  19.0  12.50\n",
       "8   12.0  10.84  12.0  9.13  12.0   8.15   8.0   5.56\n",
       "9    7.0   4.82   7.0  7.26   7.0   6.42   8.0   7.91\n",
       "10   5.0   5.68   5.0  4.74   5.0   5.73   8.0   6.89"
      ]
     },
     "execution_count": 213,
     "metadata": {},
     "output_type": "execute_result"
    }
   ],
   "source": [
    "data"
   ]
  },
  {
   "cell_type": "code",
   "execution_count": 214,
   "id": "9c5e87b4",
   "metadata": {},
   "outputs": [
    {
     "name": "stdout",
     "output_type": "stream",
     "text": [
      "Mean and standard deviation for each column:\n",
      "x0: 9.0,3.32, y0: 7.50,2.03\n",
      "x1: 9.0,3.32, y1: 7.50,2.03\n",
      "x2: 9.0,3.32, y1: 7.50,2.03\n",
      "x3: 9.0,3.32, y1: 7.50,2.03\n"
     ]
    }
   ],
   "source": [
    "x0 = data[\"x\"]\n",
    "y0 = data[\"y\"]\n",
    "x1 = data[\"x.1\"]\n",
    "y1 = data[\"y.1\"]\n",
    "x2 = data[\"x.2\"]\n",
    "y2 = data[\"y.2\"]\n",
    "x3 = data[\"x.3\"]\n",
    "y3 = data[\"y.3\"]\n",
    "print(\"Mean and standard deviation for each column:\")\n",
    "print(f\"x0: {x0.mean()},{x0.std():.2f}, y0: {y0.mean():.2f},{y0.std():.2f}\")\n",
    "print(f\"x1: {x1.mean()},{x1.std():.2f}, y1: {y1.mean():.2f},{y1.std():.2f}\")\n",
    "print(f\"x2: {x2.mean()},{x2.std():.2f}, y1: {y2.mean():.2f},{y2.std():.2f}\")\n",
    "print(f\"x3: {x3.mean()},{x3.std():.2f}, y1: {y3.mean():.2f},{y3.std():.2f}\")"
   ]
  },
  {
   "cell_type": "markdown",
   "id": "17c37180",
   "metadata": {},
   "source": [
    "Does that mean we're looking at the same data in each pair of columns?"
   ]
  },
  {
   "cell_type": "code",
   "execution_count": 215,
   "id": "4a0a5741",
   "metadata": {},
   "outputs": [
    {
     "data": {
      "text/plain": [
       "<AxesSubplot:xlabel='x.3', ylabel='y.3'>"
      ]
     },
     "execution_count": 215,
     "metadata": {},
     "output_type": "execute_result"
    },
    {
     "data": {
      "image/png": "[encoded data removed]",
      "text/plain": [
       "<Figure size 216x216 with 1 Axes>"
      ]
     },
     "metadata": {
      "needs_background": "light"
     },
     "output_type": "display_data"
    },
    {
     "data": {
      "image/png": "[encoded data removed]",
      "text/plain": [
       "<Figure size 216x216 with 1 Axes>"
      ]
     },
     "metadata": {
      "needs_background": "light"
     },
     "output_type": "display_data"
    },
    {
     "data": {
      "image/png": "[encoded data removed]",
      "text/plain": [
       "<Figure size 216x216 with 1 Axes>"
      ]
     },
     "metadata": {
      "needs_background": "light"
     },
     "output_type": "display_data"
    },
    {
     "data": {
      "image/png": "[encoded data removed]",
      "text/plain": [
       "<Figure size 216x216 with 1 Axes>"
      ]
     },
     "metadata": {
      "needs_background": "light"
     },
     "output_type": "display_data"
    }
   ],
   "source": [
    "data.plot.scatter(\"x\",\"y\",figsize=(3, 3))\n",
    "data.plot.scatter(\"x.1\",\"y.1\",figsize=(3, 3))\n",
    "data.plot.scatter(\"x.2\",\"y.2\",figsize=(3, 3))\n",
    "data.plot.scatter(\"x.3\",\"y.3\",figsize=(3, 3))"
   ]
  },
  {
   "cell_type": "markdown",
   "id": "3f62a33a",
   "metadata": {},
   "source": [
    "Looking at x vs y, we would say that these points are __linearly__ correlated. The points scatter around the linear dependence, meaning the correlation is not very strong"
   ]
  },
  {
   "cell_type": "code",
   "execution_count": 216,
   "id": "bdc69bb5",
   "metadata": {},
   "outputs": [
    {
     "data": {
      "text/plain": [
       "<AxesSubplot:xlabel='x', ylabel='y'>"
      ]
     },
     "execution_count": 216,
     "metadata": {},
     "output_type": "execute_result"
    },
    {
     "data": {
      "image/png": "[encoded data removed]",
      "text/plain": [
       "<Figure size 216x216 with 1 Axes>"
      ]
     },
     "metadata": {
      "needs_background": "light"
     },
     "output_type": "display_data"
    }
   ],
   "source": [
    "data.plot.scatter(\"x\",\"y\",figsize=(3, 3))"
   ]
  },
  {
   "cell_type": "markdown",
   "id": "b0e19e4e",
   "metadata": {},
   "source": [
    "We can characterize the strength of the correlation using a correlation coefficients"
   ]
  },
  {
   "cell_type": "code",
   "execution_count": 217,
   "id": "1491cb7b",
   "metadata": {},
   "outputs": [
    {
     "data": {
      "text/plain": [
       "0.81642051634484"
      ]
     },
     "execution_count": 217,
     "metadata": {},
     "output_type": "execute_result"
    }
   ],
   "source": [
    "# Calculate the correlation coefficient between two columns\n",
    "data[\"x\"].corr(data[\"y\"],method=\"pearson\")"
   ]
  },
  {
   "cell_type": "markdown",
   "id": "9860361f",
   "metadata": {},
   "source": [
    "There are three different definitions of the correlation coefficient available: Pearson, Spearman and Kendall"
   ]
  },
  {
   "cell_type": "code",
   "execution_count": 218,
   "id": "2391e3f2",
   "metadata": {},
   "outputs": [
    {
     "name": "stdout",
     "output_type": "stream",
     "text": [
      "Pearson: 0.81642051634484\n",
      "Spearman: 0.8181818181818182\n",
      "Kendall: 0.6363636363636364\n"
     ]
    }
   ],
   "source": [
    "kp = data[\"x\"].corr(data[\"y\"],method=\"pearson\")\n",
    "ks = data[\"x\"].corr(data[\"y\"],method=\"spearman\")\n",
    "kk = data[\"x\"].corr(data[\"y\"],method=\"kendall\")\n",
    "      \n",
    "print(f\"Pearson: {kp}\")\n",
    "print(f\"Spearman: {ks}\")\n",
    "print(f\"Kendall: {kk}\")"
   ]
  },
  {
   "cell_type": "markdown",
   "id": "edd22a99",
   "metadata": {},
   "source": [
    "The Pearson correlation coefficient is probably the most common and can also be calculated using the numpy.corrcoef() method. It is defined as \n",
    "<img src=\"pearson.png\">\n",
    "\n",
    "The second parameter is the __probability__ that the underlying distribution is uncorrelated and normal\n",
    "\n"
   ]
  },
  {
   "cell_type": "code",
   "execution_count": 219,
   "id": "7c7cd278",
   "metadata": {},
   "outputs": [
    {
     "name": "stdout",
     "output_type": "stream",
     "text": [
      "Pearson correlation coefficient is 1.0\n",
      "Probability that x,y are uncorrelated is 0.0\n"
     ]
    },
    {
     "data": {
      "image/png": "[encoded data removed]",
      "text/plain": [
       "<Figure size 144x144 with 1 Axes>"
      ]
     },
     "metadata": {
      "needs_background": "light"
     },
     "output_type": "display_data"
    }
   ],
   "source": [
    "import scipy as sp\n",
    "\n",
    "x = np.arange(0,10,0.5)\n",
    "y = x*1.5\n",
    "\n",
    "plt.figure(figsize = (2,2))\n",
    "plt.scatter(x,y)\n",
    "\n",
    "r,p = sp.stats.pearsonr(x,y)\n",
    "print(f\"Pearson correlation coefficient is {r}\")\n",
    "print(f\"Probability that x,y are uncorrelated is {p}\")"
   ]
  },
  {
   "cell_type": "markdown",
   "id": "9a9e6d66",
   "metadata": {},
   "source": [
    "What if we add some noise to the data?"
   ]
  },
  {
   "cell_type": "code",
   "execution_count": 220,
   "id": "d85136f1",
   "metadata": {},
   "outputs": [
    {
     "name": "stdout",
     "output_type": "stream",
     "text": [
      "Pearson correlation coefficient is 0.723\n",
      "Probability that x,y are uncorrelated is 0.000\n"
     ]
    },
    {
     "data": {
      "image/png": "[encoded data removed]",
      "text/plain": [
       "<Figure size 144x144 with 1 Axes>"
      ]
     },
     "metadata": {
      "needs_background": "light"
     },
     "output_type": "display_data"
    }
   ],
   "source": [
    "noise = np.random.normal(0,5,len(y))\n",
    "y_noisy = y + noise\n",
    "plt.figure(figsize = (2,2))\n",
    "plt.scatter(x,y_noisy)\n",
    "r,p = sp.stats.pearsonr(x,y_noisy)\n",
    "print(f\"Pearson correlation coefficient is {r:.3f}\")\n",
    "print(f\"Probability that x,y are uncorrelated is {p:.3f}\")"
   ]
  },
  {
   "cell_type": "markdown",
   "id": "65051be9",
   "metadata": {},
   "source": [
    "What is we take two distributions that are not correlated at all?\n",
    "\n",
    "The second parameter is the probability that the underlying distribution is uncorrelated and normal"
   ]
  },
  {
   "cell_type": "code",
   "execution_count": 221,
   "id": "f29322da",
   "metadata": {},
   "outputs": [
    {
     "name": "stdout",
     "output_type": "stream",
     "text": [
      "Pearson correlation coefficient is -0.225\n",
      "Probability that x,y are uncorrelated is 0.117\n"
     ]
    },
    {
     "data": {
      "image/png": "[encoded data removed]",
      "text/plain": [
       "<Figure size 144x144 with 1 Axes>"
      ]
     },
     "metadata": {
      "needs_background": "light"
     },
     "output_type": "display_data"
    }
   ],
   "source": [
    "x = np.random.normal(0,5,50)\n",
    "y = np.random.normal(0,5,50)\n",
    "\n",
    "plt.figure(figsize = (2,2))\n",
    "plt.scatter(x,y)\n",
    "r,p = sp.stats.pearsonr(x,y)\n",
    "print(f\"Pearson correlation coefficient is {r:.3f}\")\n",
    "print(f\"Probability that x,y are uncorrelated is {p:.3f}\")"
   ]
  },
  {
   "cell_type": "markdown",
   "id": "a942592f",
   "metadata": {},
   "source": [
    "The correlation coefficient can also be negative"
   ]
  },
  {
   "cell_type": "code",
   "execution_count": 223,
   "id": "b3039cee",
   "metadata": {},
   "outputs": [
    {
     "name": "stdout",
     "output_type": "stream",
     "text": [
      "Pearson correlation coefficient is -1.0\n",
      "Probability that x,y are uncorrelated is 0.0\n"
     ]
    },
    {
     "data": {
      "image/png": "[encoded data removed]",
      "text/plain": [
       "<Figure size 144x144 with 1 Axes>"
      ]
     },
     "metadata": {
      "needs_background": "light"
     },
     "output_type": "display_data"
    }
   ],
   "source": [
    "import scipy as sp\n",
    "\n",
    "x = np.arange(0,10,0.5)\n",
    "y = -x*1.5\n",
    "\n",
    "plt.figure(figsize = (2,2))\n",
    "plt.scatter(x,y)\n",
    "\n",
    "r,p = sp.stats.pearsonr(x,y)\n",
    "print(f\"Pearson correlation coefficient is {r}\")\n",
    "print(f\"Probability that x,y are uncorrelated is {p}\")"
   ]
  },
  {
   "cell_type": "markdown",
   "id": "b1e5c707",
   "metadata": {},
   "source": [
    "Looking back at the data in the pandas dataframe\n"
   ]
  },
  {
   "cell_type": "code",
   "execution_count": 224,
   "id": "80c9af03",
   "metadata": {},
   "outputs": [
    {
     "name": "stdout",
     "output_type": "stream",
     "text": [
      "Pearson: 0.816\n"
     ]
    },
    {
     "data": {
      "image/png": "[encoded data removed]",
      "text/plain": [
       "<Figure size 216x216 with 1 Axes>"
      ]
     },
     "metadata": {
      "needs_background": "light"
     },
     "output_type": "display_data"
    }
   ],
   "source": [
    "data.plot.scatter(\"x.1\",\"y.1\",figsize=(3, 3))\n",
    "kp = data[\"x\"].corr(data[\"y\"],method=\"pearson\")\n",
    "\n",
    "      \n",
    "print(f\"Pearson: {kp:.3f}\")"
   ]
  },
  {
   "cell_type": "markdown",
   "id": "9199e170",
   "metadata": {},
   "source": [
    "Even though the data follow a smooth curve without noise, r < 1\n",
    "Pearson coefficient measures __linear__ correlation"
   ]
  },
  {
   "cell_type": "code",
   "execution_count": 225,
   "id": "d5d0f7b0",
   "metadata": {},
   "outputs": [
    {
     "name": "stdout",
     "output_type": "stream",
     "text": [
      "Pearson: 0.816\n"
     ]
    },
    {
     "data": {
      "image/png": "[encoded data removed]",
      "text/plain": [
       "<Figure size 216x216 with 1 Axes>"
      ]
     },
     "metadata": {
      "needs_background": "light"
     },
     "output_type": "display_data"
    }
   ],
   "source": [
    "data.plot.scatter(\"x.2\",\"y.2\",figsize=(3, 3))\n",
    "kp = data[\"x\"].corr(data[\"y\"],method=\"pearson\")\n",
    "\n",
    "      \n",
    "print(f\"Pearson: {kp:.3f}\")"
   ]
  },
  {
   "cell_type": "markdown",
   "id": "aec6276f",
   "metadata": {},
   "source": [
    "Correlation coefficient is sensitive to outliers."
   ]
  },
  {
   "cell_type": "markdown",
   "id": "9ea970fd",
   "metadata": {},
   "source": [
    "Another important tool to study correlations are __correlation functions__\n",
    "\n",
    "If you have data X(s) and Y(T) then the correlation function C(s,t) = corr(X,Y) can be defined for different correlators. Examples are shown in this graph from Wikipedia:\n",
    "\n",
    "<img src=\"CorrelationFunctions.png\">"
   ]
  },
  {
   "cell_type": "code",
   "execution_count": 226,
   "id": "41f89f4c",
   "metadata": {
    "scrolled": false
   },
   "outputs": [
    {
     "data": {
      "image/png": "[encoded data removed]",
      "text/plain": [
       "<Figure size 432x288 with 1 Axes>"
      ]
     },
     "metadata": {
      "needs_background": "light"
     },
     "output_type": "display_data"
    }
   ],
   "source": [
    "# look at the correlation function for two timeseries of events\n",
    "# could for example be the signals seen in the cosmicwatch detectors\n",
    "\n",
    "\n",
    "x1 = np.random.rand(500)\n",
    "x2 = np.random.rand(500)\n",
    "\n",
    "\n",
    "count, edges, j = plt.hist(x1,bins=200,range=[0,1])\n",
    "count, edges, j = plt.hist(x2,bins=200,range=[0,1])"
   ]
  },
  {
   "cell_type": "code",
   "execution_count": 227,
   "id": "c331a380",
   "metadata": {
    "scrolled": true
   },
   "outputs": [
    {
     "name": "stdout",
     "output_type": "stream",
     "text": [
      "Pearson correlation coefficient is -0.04175303563858346\n"
     ]
    },
    {
     "data": {
      "image/png": "[encoded data removed]",
      "text/plain": [
       "<Figure size 432x288 with 1 Axes>"
      ]
     },
     "metadata": {
      "needs_background": "light"
     },
     "output_type": "display_data"
    }
   ],
   "source": [
    "# We can check x1, x2 for correlation:\n",
    "plt.scatter(x1,x2)\n",
    "r,p = sp.stats.pearsonr(x1,x2)\n",
    "print(f\"Pearson correlation coefficient is {r}\")"
   ]
  },
  {
   "cell_type": "code",
   "execution_count": 228,
   "id": "13633d2b",
   "metadata": {},
   "outputs": [
    {
     "data": {
      "text/plain": [
       "<matplotlib.collections.PathCollection at 0x7fbb02750c40>"
      ]
     },
     "execution_count": 228,
     "metadata": {},
     "output_type": "execute_result"
    },
    {
     "data": {
      "image/png": "[encoded data removed]",
      "text/plain": [
       "<Figure size 432x288 with 1 Axes>"
      ]
     },
     "metadata": {
      "needs_background": "light"
     },
     "output_type": "display_data"
    }
   ],
   "source": [
    "# But what if we add some correlated signal to the noise?\n",
    "sig1 = np.random.rand(20)\n",
    "sig2 = sig1+0.02\n",
    "x1a = np.append(x1,sig1)\n",
    "x2a = np.append(x2,sig2)\n",
    "plt.scatter(x1a,x2a)"
   ]
  },
  {
   "cell_type": "code",
   "execution_count": 229,
   "id": "16397fa9",
   "metadata": {},
   "outputs": [
    {
     "name": "stdout",
     "output_type": "stream",
     "text": [
      "Pearson correlation coefficient is -0.0013201143735236086\n"
     ]
    }
   ],
   "source": [
    "r,p = sp.stats.pearsonr(x1a,x2a)\n",
    "print(f\"Pearson correlation coefficient is {r}\")"
   ]
  },
  {
   "cell_type": "code",
   "execution_count": 234,
   "id": "e5dd2dff",
   "metadata": {
    "scrolled": true
   },
   "outputs": [
    {
     "name": "stdout",
     "output_type": "stream",
     "text": [
      "Go!\n",
      "Done!\n"
     ]
    }
   ],
   "source": [
    "dx = []\n",
    "print(\"Go!\")\n",
    "for i1 in range(len(x1a)):\n",
    "    for i2 in range(len(x2a)):\n",
    "        \n",
    "# Our correlator for this correlation function is just x-y\n",
    "        d = x1a[i1]-x2a[i2]\n",
    "        dx.append(d)\n",
    "print(\"Done!\")"
   ]
  },
  {
   "cell_type": "code",
   "execution_count": 236,
   "id": "587b8452",
   "metadata": {
    "scrolled": true
   },
   "outputs": [
    {
     "data": {
      "image/png": "[encoded data removed]",
      "text/plain": [
       "<Figure size 432x288 with 1 Axes>"
      ]
     },
     "metadata": {
      "needs_background": "light"
     },
     "output_type": "display_data"
    }
   ],
   "source": [
    "counts, edges, jj = plt.hist(dx,bins=200)"
   ]
  },
  {
   "cell_type": "code",
   "execution_count": 237,
   "id": "d4f7fbc3",
   "metadata": {
    "scrolled": false
   },
   "outputs": [
    {
     "data": {
      "text/plain": [
       "<ErrorbarContainer object of 3 artists>"
      ]
     },
     "execution_count": 237,
     "metadata": {},
     "output_type": "execute_result"
    },
    {
     "data": {
      "image/png": "[encoded data removed]",
      "text/plain": [
       "<Figure size 432x288 with 1 Axes>"
      ]
     },
     "metadata": {
      "needs_background": "light"
     },
     "output_type": "display_data"
    }
   ],
   "source": [
    "#let's add some errorbars\n",
    "\n",
    "y_err = np.sqrt(counts)\n",
    "plt.errorbar(edges[0:-1],counts,yerr=y_err,fmt=\"o\")"
   ]
  },
  {
   "cell_type": "code",
   "execution_count": 249,
   "id": "ed207f39",
   "metadata": {
    "scrolled": true
   },
   "outputs": [
    {
     "data": {
      "text/plain": [
       "Text(0, 0.5, 'Entries per bin')"
      ]
     },
     "execution_count": 249,
     "metadata": {},
     "output_type": "execute_result"
    },
    {
     "data": {
      "image/png": "[encoded data removed]",
      "text/plain": [
       "<Figure size 720x144 with 1 Axes>"
      ]
     },
     "metadata": {
      "needs_background": "light"
     },
     "output_type": "display_data"
    }
   ],
   "source": [
    "#hm, but what if we zoom in?\n",
    "fig = plt.figure(figsize = (10,2))\n",
    "counts, edges = np.histogram(dx,bins=800, range=[-0.0225,-0.0175])\n",
    "y_err = np.sqrt(counts)\n",
    "plt.errorbar(edges[0:-1],counts,yerr=y_err,fmt=\"o\")\n",
    "plt.xlabel(\"difference x1 - x2\")\n",
    "plt.ylabel(\"Entries per bin\")"
   ]
  },
  {
   "cell_type": "code",
   "execution_count": null,
   "id": "c45f0486",
   "metadata": {},
   "outputs": [],
   "source": []
  }
 ],
 "metadata": {
  "kernelspec": {
   "display_name": "Python 3 (ipykernel)",
   "language": "python",
   "name": "python3"
  },
  "language_info": {
   "codemirror_mode": {
    "name": "ipython",
    "version": 3
   },
   "file_extension": ".py",
   "mimetype": "text/x-python",
   "name": "python",
   "nbconvert_exporter": "python",
   "pygments_lexer": "ipython3",
   "version": "3.9.12"
  }
 },
 "nbformat": 4,
 "nbformat_minor": 5
}
