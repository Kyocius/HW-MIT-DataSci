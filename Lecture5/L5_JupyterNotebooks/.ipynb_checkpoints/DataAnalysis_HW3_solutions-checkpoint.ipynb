{
 "cells": [
  {
   "cell_type": "markdown",
   "id": "6ee80e1c-6664-465a-bc5c-80950e5ba0ce",
   "metadata": {},
   "source": [
    "# Pendulum example\n",
    "\n",
    "- a simple pendulum (a mass on a string) can be used to measure the gravitational acceleration g\n",
    "- such a measurement was performed by students in a lab class and the results were recorded and stored in a CSV (comma separated values) file\n",
    "- the measurements are a mix of \"first pendulum\" (large uncertainty) and \"best pendulum\" (smaller uncertainty) measurements\n",
    "\n",
    "- __First step: Let's look at the raw data__"
   ]
  },
  {
   "cell_type": "markdown",
   "id": "28d1ef4d-f12a-4989-8cb8-d0703aecec5e",
   "metadata": {},
   "source": [
    "__Second step: Read in the raw data, make a histogram, plot the data and examine it__"
   ]
  },
  {
   "cell_type": "markdown",
   "id": "398f2110-2e59-49cd-8bc3-92c0611f765a",
   "metadata": {},
   "source": [
    "- most of the data are close to 10m/s^2, but one data point is at 980 m/s^2\n",
    "- data points like this are called outliers\n",
    "- what to do with data like this?\n",
    "- Do not just throw them away, but think how this might have happened\n",
    "- is there an explanation? Was this a mistake or is this a big discovery?\n",
    "- in this case, it is __likely__ that someone reported the result in cm/s^2 instead of m/s^2, making a factor of 100 difference\n",
    "- let's do this again, but clean up the data before plotting"
   ]
  },
  {
   "cell_type": "code",
   "execution_count": 16,
   "id": "654a66ae-d860-4f25-ae98-5977da4833e1",
   "metadata": {},
   "outputs": [
    {
     "name": "stdout",
     "output_type": "stream",
     "text": [
      "# of measurements read is 353\n",
      "Gaussian parameters: [117.0, 23.4, 9.828187536427762, 0.2335668996246875, 0.7007006988740625]\n",
      "Chi^2 =  18.012846598845336 for  19 #DOF\n",
      "Fitted parameters =  [121.66749101  15.28123376   9.80923621   0.14219559   0.61884542]\n",
      "Uncertainties =  [1.12712508e+01 3.48782837e+00 1.11976815e-02 1.23720822e-02\n",
      " 6.34132860e-02]\n"
     ]
    },
    {
     "data": {
      "text/plain": [
       "Text(0, 0.5, '#of measurements per bin')"
      ]
     },
     "execution_count": 16,
     "metadata": {},
     "output_type": "execute_result"
    },
    {
     "data": {
      "image/png": "[encoded data removed]",
      "text/plain": [
       "<Figure size 432x288 with 1 Axes>"
      ]
     },
     "metadata": {
      "needs_background": "light"
     },
     "output_type": "display_data"
    },
    {
     "data": {
      "image/png": "[encoded data removed]",
      "text/plain": [
       "<Figure size 576x576 with 1 Axes>"
      ]
     },
     "metadata": {
      "needs_background": "light"
     },
     "output_type": "display_data"
    }
   ],
   "source": [
    "#### import numpy as np\n",
    "import matplotlib.pylab as plt\n",
    "import numpy as np\n",
    "from scipy.optimize import curve_fit\n",
    "\n",
    "# Define a Gaussian function\n",
    "def gauss(x, a, x0, sigma):\n",
    "    return a*np.exp(-(x-x0)**2/(2*(sigma**2)))\n",
    "\n",
    "def dbl_gauss(x, a1,a2, x0, sigma1,sigma2):\n",
    "    dx2 = (x-x0)**2\n",
    "    y = a1*np.exp(-dx2/(2*(sigma1**2)))\n",
    "    y = y + a2*np.exp(-dx2/(2*(sigma2**2)))\n",
    "    return y\n",
    "                \n",
    "    \n",
    "# open a text file containing data\n",
    "\n",
    "f = open(\"../Data/pendulumData.csv\",\"r\")\n",
    "\n",
    "#read one line of data and discard\n",
    "\n",
    "s = f.readline()\n",
    "\n",
    "# define empty array to store data values\n",
    "g = []\n",
    "\n",
    "\n",
    "#the while loop will run until the end of file or i == nevent\n",
    "flag = True\n",
    "i = 0\n",
    "while flag:\n",
    "    s = f.readline()\n",
    "    if s:\n",
    "#        print(i,s)\n",
    "        ss = s.split(\",\")\n",
    "        x = float(ss[1])\n",
    "        if(x > 500.0):\n",
    "            x = x/100.0\n",
    "        g.append(x)\n",
    "        i = i + 1\n",
    "    else:\n",
    "        # reached end of file; stop while loop\n",
    "        flag = False\n",
    "        \n",
    "print(\"# of measurements read is\",i)\n",
    "f.close()\n",
    "\n",
    "# number of bins for histograms\n",
    "nbins = 50\n",
    "\n",
    "#range for histograms\n",
    "xmin = 6\n",
    "xmax = 16\n",
    "                  \n",
    "# set starting values for the Gaussian fit\n",
    "\n",
    "counts, edges, junk = plt.hist(g, bins = nbins,range = [xmin,xmax])\n",
    "g_max = np.amax(counts)\n",
    "g_ave = np.average(g)\n",
    "g_std = np.std(g)\n",
    "par = [g_max,g_max/5,g_ave,g_std/3,g_std]\n",
    "\n",
    "g_uncertainty = g_std/np.sqrt(i)\n",
    "print(\"Gaussian parameters:\",par)\n",
    "\n",
    "# calculate the uncertainty on each bin as sqrt(entries)\n",
    "y_err = []\n",
    "x_val = []\n",
    "y_val = []\n",
    "for i in range(len(counts)):\n",
    "    e = np.sqrt(counts[i])\n",
    "    if e > 0:\n",
    "        y_err.append(e)\n",
    "        x_val.append((edges[i]+edges[i+1])/2)\n",
    "        y_val.append(counts[i])\n",
    "\n",
    "plt.figure(figsize=(8,8))\n",
    "plt.errorbar(x_val,y_val,yerr=y_err,fmt='ko')\n",
    "plt.xlabel(r'g[m/$s^2$]', fontsize = 15)\n",
    "plt.ylabel(r'#of measurements per bin', fontsize = 15)\n",
    "\n",
    "#using the starting parameters, fit a Gaussian curve to the data\n",
    "popt, pcov = curve_fit(dbl_gauss, x_val, y_val,p0 = par, sigma = y_err)\n",
    "\n",
    "# get parameter errors as sqrt of diagonal of covariance matrix\n",
    "perr = np.sqrt(np.diag(pcov))\n",
    "\n",
    "# calculate the chi^2\n",
    "chi2 = 0.0\n",
    "for i in range(len(x_val)):\n",
    "    x = (dbl_gauss(x_val[i],*popt) - y_val[i])/y_err[i]\n",
    "    chi2 = chi2 + x*x\n",
    "    \n",
    "ndof = len(x_val) - len(par)\n",
    "\n",
    "print(\"Chi^2 = \",chi2,\"for \",ndof,\"#DOF\")\n",
    "    \n",
    "print(\"Fitted parameters = \",popt)\n",
    "print(\"Uncertainties = \",perr)\n",
    "\n",
    "# plot Gaussian with fitted parameters\n",
    "xx = np.arange(xmin,xmax,0.1)\n",
    "plt.plot(xx, dbl_gauss(xx, *popt),'g',label=\"Gaussian fit\")\n",
    "\n",
    "plt.xlabel(r'g[m/$s^2$]', fontsize = 15)\n",
    "plt.ylabel(r'#of measurements per bin', fontsize = 15)\n"
   ]
  },
  {
   "cell_type": "code",
   "execution_count": null,
   "id": "0c76c57b-6312-4924-a380-0a62f029b903",
   "metadata": {},
   "outputs": [],
   "source": []
  }
 ],
 "metadata": {
  "kernelspec": {
   "display_name": "Python 3 (ipykernel)",
   "language": "python",
   "name": "python3"
  },
  "language_info": {
   "codemirror_mode": {
    "name": "ipython",
    "version": 3
   },
   "file_extension": ".py",
   "mimetype": "text/x-python",
   "name": "python",
   "nbconvert_exporter": "python",
   "pygments_lexer": "ipython3",
   "version": "3.9.12"
  }
 },
 "nbformat": 4,
 "nbformat_minor": 5
}
