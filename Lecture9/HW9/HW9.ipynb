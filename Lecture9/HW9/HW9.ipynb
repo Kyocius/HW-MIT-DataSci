{
 "cells": [
  {
   "cell_type": "code",
   "execution_count": 2,
   "metadata": {},
   "outputs": [
    {
     "name": "stderr",
     "output_type": "stream",
     "text": [
      "c:\\Users\\kyoci\\anaconda3\\Lib\\site-packages\\torchvision\\io\\image.py:13: UserWarning: Failed to load image Python extension: '[WinError 127] 找不到指定的程序。'If you don't plan on using image functionality from `torchvision.io`, you can ignore this warning. Otherwise, there might be something wrong with your environment. Did you have `libjpeg` or `libpng` installed before building `torchvision` from source?\n",
      "  warn(\n"
     ]
    }
   ],
   "source": [
    "# Import torch library and the other usual libraries\n",
    "# Based on code by Naveen on nomidl.com\n",
    "\n",
    "import torch\n",
    "import torchvision\n",
    "import torch.nn as nn\n",
    "import matplotlib.pyplot as plt\n",
    "import numpy as np\n",
    "from torchvision import transforms"
   ]
  },
  {
   "cell_type": "code",
   "execution_count": 3,
   "metadata": {},
   "outputs": [],
   "source": [
    "# Define a data transformation to convert digit images to tensors\n",
    "transform = transforms.ToTensor()\n",
    "# Load the MNIST datasets for training and validation\n",
    "# images are 28x28 pixel images of handwritten digits in a greyscale\n",
    "train_dataset = torchvision.datasets.MNIST(root='./data', train=True, download=True, transform=transform)\n",
    "valid_dataset = torchvision.datasets.MNIST(root='./data', train=False, download=True, transform=transform)\n",
    "\n",
    "# Create a data loader for training data with a batch size of 100\n",
    "train_dl = torch.utils.data.DataLoader(train_dataset, batch_size=100)\n",
    "valid_dl = torch.utils.data.DataLoader(valid_dataset, batch_size=100)"
   ]
  },
  {
   "cell_type": "code",
   "execution_count": 4,
   "metadata": {},
   "outputs": [],
   "source": [
    "# Define the Encoder class for the autoencode\n",
    "# Input is 28x28, one for each pixel\n",
    "# Two hidden layers, one with 128 nodes, one with 16\n",
    "# Latent layer has only 2 nodes! \n",
    "# Reduce dimensionality from 784 to 2!\n",
    "# Layers are linear (fully connected layers with ReLU activation functions)\n",
    "\n",
    "class Encoder(nn.Module):\n",
    "    def __init__(self, input_size=28 * 28, hidden_size1=128, hidden_size2=16, z_dim=2):\n",
    "        super().__init__()\n",
    "        self.fc1 = nn.Linear(input_size, hidden_size1)\n",
    "        self.fc2 = nn.Linear(hidden_size1, hidden_size2)\n",
    "        self.fc3 = nn.Linear(hidden_size2, z_dim)\n",
    "        self.relu = nn.ReLU()\n",
    "\n",
    "    def forward(self, x):\n",
    "        x = self.relu(self.fc1(x))\n",
    "        x = self.relu(self.fc2(x))\n",
    "        x = self.fc3(x)\n",
    "        return x"
   ]
  },
  {
   "cell_type": "code",
   "execution_count": 5,
   "metadata": {},
   "outputs": [],
   "source": [
    "# Define the Decoder class for the Variational Autoencoder (VAE)\n",
    "# Input is 28x28, one for each pixel\n",
    "# Two hidden layers, one with 128 nodes, one with 16\n",
    "# Latent layer has only 2 nodes! \n",
    "# Reduce dimensionality from 784 to 2!\n",
    "# Layers are linear (fully connected layers with ReLU activation functions)\n",
    "\n",
    "class Decoder(nn.Module):\n",
    "    def __init__(self, output_size=28 * 28, hidden_size1=128, hidden_size2=16, z_dim=2):\n",
    "        super().__init__()\n",
    "        self.fc1 = nn.Linear(z_dim, hidden_size2)\n",
    "        self.fc2 = nn.Linear(hidden_size2, hidden_size1)\n",
    "        self.fc3 = nn.Linear(hidden_size1, output_size)\n",
    "        self.relu = nn.ReLU()\n",
    "\n",
    "    def forward(self, x):\n",
    "        x = self.relu(self.fc1(x))\n",
    "        x = self.relu(self.fc2(x))\n",
    "        x = torch.sigmoid(self.fc3(x))\n",
    "        return x"
   ]
  },
  {
   "cell_type": "code",
   "execution_count": 6,
   "metadata": {},
   "outputs": [],
   "source": [
    "# Check for GPU availability and set the device accordingly\n",
    "# I don't have a GPU, so device will be 'cpu'\n",
    "\n",
    "device = torch.device('cuda' if torch.cuda.is_available() else 'cpu')"
   ]
  },
  {
   "cell_type": "code",
   "execution_count": 7,
   "metadata": {},
   "outputs": [],
   "source": [
    "# Initialize the Encoder and Decoder on the selected device (i.e., 'cpu')\n",
    "enc = Encoder().to(device)\n",
    "dec = Decoder().to(device)"
   ]
  },
  {
   "cell_type": "code",
   "execution_count": 8,
   "metadata": {},
   "outputs": [],
   "source": [
    "# Define the loss function (Mean Squared Error) \n",
    "# This will be used to compare input to the Encoder with output from the Decoder\n",
    "loss_fn = nn.MSELoss()\n",
    "\n",
    "# Select the Adam adaptive gradient descent opitmizer for both Encoder and Decoder\n",
    "optimizer_enc = torch.optim.Adam(enc.parameters())\n",
    "optimizer_dec = torch.optim.Adam(dec.parameters())"
   ]
  },
  {
   "cell_type": "code",
   "execution_count": 9,
   "metadata": {},
   "outputs": [],
   "source": [
    "# We will run for 100 training epochs\n",
    "# store the result from the loss function calculation for each epoch in train_loss[]\n",
    "train_loss = []\n",
    "num_epochs = 100"
   ]
  },
  {
   "cell_type": "code",
   "execution_count": 10,
   "metadata": {},
   "outputs": [
    {
     "name": "stdout",
     "output_type": "stream",
     "text": [
      "Epoch  0\n",
      "Epoch  10\n",
      "Epoch  20\n",
      "Epoch  30\n",
      "Epoch  40\n",
      "Epoch  50\n",
      "Epoch  60\n",
      "Epoch  70\n",
      "Epoch  80\n",
      "Epoch  90\n",
      "Epoch  100\n",
      "Epoch  110\n",
      "Epoch  120\n",
      "Epoch  130\n",
      "Epoch  140\n",
      "Epoch  150\n",
      "Epoch  160\n",
      "Epoch  170\n",
      "Epoch  180\n",
      "Epoch  190\n"
     ]
    }
   ],
   "source": [
    "# Note that the training only uses the images\n",
    "# It does not use the image labels (0,....,9)\n",
    "# Loop through training epochs\n",
    "for epoch in range(num_epochs):\n",
    "    train_epoch_loss = 0\n",
    "    if(epoch % 10 == 0):\n",
    "        print(\"Epoch \",epoch)\n",
    "    # Iterate through batches of training data\n",
    "    for (imgs, _) in valid_dl:\n",
    "\n",
    "# select and flatten the images (28x28 -> 784)\n",
    "        imgs = imgs.to(device)\n",
    "        imgs = imgs.flatten(1)\n",
    "# encode the images to the latent layer\n",
    "        latents = enc(imgs)\n",
    "# decode the images to the output layer\n",
    "        output = dec(latents)\n",
    "# calculate the loss function\n",
    "        loss = loss_fn(output, imgs)\n",
    "# improve Encoder and Decoder weights for this training step\n",
    "        train_epoch_loss += loss.cpu().detach().numpy()\n",
    "        optimizer_enc.zero_grad()\n",
    "        optimizer_dec.zero_grad()\n",
    "        loss.backward()\n",
    "        optimizer_enc.step()\n",
    "        optimizer_dec.step()\n",
    "# done with training step\n",
    "# store loss for plotting\n",
    "    train_loss.append(train_epoch_loss)"
   ]
  },
  {
   "cell_type": "code",
   "execution_count": 16,
   "metadata": {},
   "outputs": [
    {
     "data": {
      "text/plain": [
       "21.217940079048276"
      ]
     },
     "execution_count": 16,
     "metadata": {},
     "output_type": "execute_result"
    }
   ],
   "source": [
    "# total_loss = train_loss[-1]\n",
    "# print(f\"Total loss after 100 epochs: {total_loss}\")\n",
    "train_loss[-1]"
   ]
  },
  {
   "cell_type": "code",
   "execution_count": 12,
   "metadata": {},
   "outputs": [
    {
     "data": {
      "text/plain": [
       "[<matplotlib.lines.Line2D at 0x29c6f6af0d0>]"
      ]
     },
     "execution_count": 12,
     "metadata": {},
     "output_type": "execute_result"
    },
    {
     "data": {
      "image/png": "[encoded data removed]",
      "text/plain": [
       "<Figure size 640x480 with 1 Axes>"
      ]
     },
     "metadata": {},
     "output_type": "display_data"
    }
   ],
   "source": [
    "# Plot the training loss over epochs\n",
    "plt.plot(train_loss)"
   ]
  },
  {
   "cell_type": "code",
   "execution_count": 13,
   "metadata": {},
   "outputs": [],
   "source": [
    "# Let's have a look now how the images are encoded in the 2D latent space\n",
    "# Each of the 28x28 images is encoded as one point in the 2D latent space\n",
    "\n",
    "values = None\n",
    "all_labels = []\n",
    "\n",
    "# Generate latent representations for the entire training dataset\n",
    "# switch off autograd; do not calculate gradients\n",
    "\n",
    "with torch.no_grad():\n",
    "    for (imgs, labels) in train_dl:\n",
    "\n",
    "# send images to device\n",
    "        imgs = imgs.to(device)\n",
    "# flatten them\n",
    "        imgs = imgs.flatten(1)\n",
    "        all_labels.extend(list(labels.numpy()))\n",
    "# encode image\n",
    "        latents = enc(imgs)\n",
    "        \n",
    "# store values from latent layer\n",
    "        if values is None:\n",
    "            values = latents.cpu()\n",
    "        else:\n",
    "            values = torch.vstack([values, latents.cpu()])\n",
    "# translate values to a numpy array\n",
    "values = values.numpy()"
   ]
  }
 ],
 "metadata": {
  "kernelspec": {
   "display_name": "base",
   "language": "python",
   "name": "python3"
  },
  "language_info": {
   "codemirror_mode": {
    "name": "ipython",
    "version": 3
   },
   "file_extension": ".py",
   "mimetype": "text/x-python",
   "name": "python",
   "nbconvert_exporter": "python",
   "pygments_lexer": "ipython3",
   "version": "3.11.7"
  }
 },
 "nbformat": 4,
 "nbformat_minor": 2
}
