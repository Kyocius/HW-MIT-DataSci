{
 "cells": [
  {
   "cell_type": "code",
   "execution_count": 1,
   "id": "8bd3f69a-8bb5-49dc-bca9-77464ac698ae",
   "metadata": {},
   "outputs": [],
   "source": [
    "# Import torch library and the other usual libraries\n",
    "# Based on code by Naveen on nomidl.com\n",
    "\n",
    "import torch\n",
    "import torchvision\n",
    "import torch.nn as nn\n",
    "import matplotlib.pyplot as plt\n",
    "import numpy as np\n",
    "from torchvision import transforms"
   ]
  },
  {
   "cell_type": "code",
   "execution_count": 3,
   "id": "32d807aa-c9d1-4967-a007-1435a7545c97",
   "metadata": {},
   "outputs": [],
   "source": [
    "# Define a data transformation to convert digit images to tensors\n",
    "transform = transforms.ToTensor()\n",
    "# Load the MNIST datasets for training and validation\n",
    "# images are 28x28 pixel images of handwritten digits in a greyscale\n",
    "train_dataset = torchvision.datasets.MNIST(root='./data', train=True, download=True, transform=transform)\n",
    "valid_dataset = torchvision.datasets.MNIST(root='./data', train=False, download=True, transform=transform)\n",
    "\n",
    "# Create a data loader for training data with a batch size of 100\n",
    "train_dl = torch.utils.data.DataLoader(train_dataset, batch_size=100)"
   ]
  },
  {
   "cell_type": "code",
   "execution_count": 4,
   "id": "263bd795-dd3b-46ea-815c-a67545962d4c",
   "metadata": {},
   "outputs": [],
   "source": [
    "# Define the Encoder class for the autoencode\n",
    "# Input is 28x28, one for each pixel\n",
    "# Two hidden layers, one with 128 nodes, one with 16\n",
    "# Latent layer has only 2 nodes! \n",
    "# Reduce dimensionality from 784 to 2!\n",
    "# Layers are linear (fully connected layers with ReLU activation functions)\n",
    "\n",
    "class Encoder(nn.Module):\n",
    "    def __init__(self, input_size=28 * 28, hidden_size1=128, hidden_size2=16, z_dim=2):\n",
    "        super().__init__()\n",
    "        self.fc1 = nn.Linear(input_size, hidden_size1)\n",
    "        self.fc2 = nn.Linear(hidden_size1, hidden_size2)\n",
    "        self.fc3 = nn.Linear(hidden_size2, z_dim)\n",
    "        self.relu = nn.ReLU()\n",
    "\n",
    "    def forward(self, x):\n",
    "        x = self.relu(self.fc1(x))\n",
    "        x = self.relu(self.fc2(x))\n",
    "        x = self.fc3(x)\n",
    "        return x"
   ]
  },
  {
   "cell_type": "code",
   "execution_count": 5,
   "id": "63449b39-c530-4f30-9d7a-fb0b0c939386",
   "metadata": {},
   "outputs": [],
   "source": [
    "# Define the Decoder class for the Variational Autoencoder (VAE)\n",
    "# Input is 28x28, one for each pixel\n",
    "# Two hidden layers, one with 128 nodes, one with 16\n",
    "# Latent layer has only 2 nodes! \n",
    "# Reduce dimensionality from 784 to 2!\n",
    "# Layers are linear (fully connected layers with ReLU activation functions)\n",
    "\n",
    "class Decoder(nn.Module):\n",
    "    def __init__(self, output_size=28 * 28, hidden_size1=128, hidden_size2=16, z_dim=2):\n",
    "        super().__init__()\n",
    "        self.fc1 = nn.Linear(z_dim, hidden_size2)\n",
    "        self.fc2 = nn.Linear(hidden_size2, hidden_size1)\n",
    "        self.fc3 = nn.Linear(hidden_size1, output_size)\n",
    "        self.relu = nn.ReLU()\n",
    "\n",
    "    def forward(self, x):\n",
    "        x = self.relu(self.fc1(x))\n",
    "        x = self.relu(self.fc2(x))\n",
    "        x = torch.sigmoid(self.fc3(x))\n",
    "        return x"
   ]
  },
  {
   "cell_type": "code",
   "execution_count": 6,
   "id": "549c50cb-9029-4f44-bb7a-a3e25180d9b4",
   "metadata": {},
   "outputs": [],
   "source": [
    "# Check for GPU availability and set the device accordingly\n",
    "# I don't have a GPU, so device will be 'cpu'\n",
    "\n",
    "device = torch.device('cuda' if torch.cuda.is_available() else 'cpu')"
   ]
  },
  {
   "cell_type": "code",
   "execution_count": 7,
   "id": "8e72dccc-6891-45b3-93f8-2238836712d7",
   "metadata": {},
   "outputs": [],
   "source": [
    "# Initialize the Encoder and Decoder on the selected device (i.e., 'cpu')\n",
    "enc = Encoder().to(device)\n",
    "dec = Decoder().to(device)"
   ]
  },
  {
   "cell_type": "code",
   "execution_count": 8,
   "id": "9c0e0785-c307-4e39-a12b-8bf595f90bb8",
   "metadata": {},
   "outputs": [],
   "source": [
    "# Define the loss function (Mean Squared Error) \n",
    "# This will be used to compare input to the Encoder with output from the Decoder\n",
    "loss_fn = nn.MSELoss()\n",
    "\n",
    "# Select the Adam adaptive gradient descent opitmizer for both Encoder and Decoder\n",
    "optimizer_enc = torch.optim.Adam(enc.parameters())\n",
    "optimizer_dec = torch.optim.Adam(dec.parameters())"
   ]
  },
  {
   "cell_type": "code",
   "execution_count": 9,
   "id": "0c51e71a-0a64-4ce4-b426-b131932fa406",
   "metadata": {},
   "outputs": [],
   "source": [
    "# We will run for 100 training epochs\n",
    "# store the result from the loss function calculation for each epoch in train_loss[]\n",
    "train_loss = []\n",
    "num_epochs = 100"
   ]
  },
  {
   "cell_type": "code",
   "execution_count": 10,
   "id": "eb9363af-971b-471e-a086-ba8eea7bd422",
   "metadata": {},
   "outputs": [
    {
     "name": "stdout",
     "output_type": "stream",
     "text": [
      "Epoch  0\n",
      "Epoch  10\n",
      "Epoch  20\n",
      "Epoch  30\n",
      "Epoch  40\n",
      "Epoch  50\n",
      "Epoch  60\n",
      "Epoch  70\n",
      "Epoch  80\n",
      "Epoch  90\n"
     ]
    }
   ],
   "source": [
    "# Note that the training only uses the images\n",
    "# It does not use the image labels (0,....,9)\n",
    "# Loop through training epochs\n",
    "for epoch in range(num_epochs):\n",
    "    train_epoch_loss = 0\n",
    "    if(epoch % 10 == 0):\n",
    "        print(\"Epoch \",epoch)\n",
    "    # Iterate through batches of training data\n",
    "    for (imgs, _) in train_dl:\n",
    "\n",
    "# select and flatten the images (28x28 -> 784)\n",
    "        imgs = imgs.to(device)\n",
    "        imgs = imgs.flatten(1)\n",
    "# encode the images to the latent layer\n",
    "        latents = enc(imgs)\n",
    "# decode the images to the output layer\n",
    "        output = dec(latents)\n",
    "# calculate the loss function\n",
    "        loss = loss_fn(output, imgs)\n",
    "# improve Encoder and Decoder weights for this training step\n",
    "        train_epoch_loss += loss.cpu().detach().numpy()\n",
    "        optimizer_enc.zero_grad()\n",
    "        optimizer_dec.zero_grad()\n",
    "        loss.backward()\n",
    "        optimizer_enc.step()\n",
    "        optimizer_dec.step()\n",
    "# done with training step\n",
    "# store loss for plotting\n",
    "    train_loss.append(train_epoch_loss)"
   ]
  },
  {
   "cell_type": "code",
   "execution_count": 11,
   "id": "28a0d4b7-e28e-4981-ab67-8886e910fbd0",
   "metadata": {},
   "outputs": [
    {
     "data": {
      "text/plain": [
       "[<matplotlib.lines.Line2D at 0x1210f8ce0>]"
      ]
     },
     "execution_count": 11,
     "metadata": {},
     "output_type": "execute_result"
    },
    {
     "data": {
      "image/png": "[encoded data removed]",
      "text/plain": [
       "<Figure size 640x480 with 1 Axes>"
      ]
     },
     "metadata": {},
     "output_type": "display_data"
    }
   ],
   "source": [
    "# Plot the training loss over epochs\n",
    "plt.plot(train_loss)"
   ]
  },
  {
   "cell_type": "code",
   "execution_count": 12,
   "id": "66c462e5-0084-4845-a054-0cc9a471e426",
   "metadata": {},
   "outputs": [],
   "source": [
    "# Let's have a look now how the images are encoded in the 2D latent space\n",
    "# Each of the 28x28 images is encoded as one point in the 2D latent space\n",
    "\n",
    "values = None\n",
    "all_labels = []\n",
    "\n",
    "# Generate latent representations for the entire training dataset\n",
    "# switch off autograd; do not calculate gradients\n",
    "\n",
    "with torch.no_grad():\n",
    "    for (imgs, labels) in train_dl:\n",
    "\n",
    "# send images to device\n",
    "        imgs = imgs.to(device)\n",
    "# flatten them\n",
    "        imgs = imgs.flatten(1)\n",
    "        all_labels.extend(list(labels.numpy()))\n",
    "# encode image\n",
    "        latents = enc(imgs)\n",
    "        \n",
    "# store values from latent layer\n",
    "        if values is None:\n",
    "            values = latents.cpu()\n",
    "        else:\n",
    "            values = torch.vstack([values, latents.cpu()])\n",
    "# translate values to a numpy array\n",
    "values = values.numpy()"
   ]
  },
  {
   "cell_type": "code",
   "execution_count": 13,
   "id": "03a57b7e-b545-45a0-a160-2ff26380fac1",
   "metadata": {},
   "outputs": [],
   "source": [
    "# Create a color map for visualization\n",
    "cmap = plt.get_cmap('viridis', 10)"
   ]
  },
  {
   "cell_type": "code",
   "execution_count": null,
   "id": "f4edfc7a-103d-4024-89f9-07b953487d58",
   "metadata": {},
   "outputs": [],
   "source": [
    "# all_labels contains labels the handwritten digits from 0 to 9\n",
    "all_labels = np.array(all_labels)\n",
    "# we can plot them to see how many examples of each digit we had in the \n",
    "# training set\n",
    "plt.hist(all_labels)\n",
    "plt.xlabel(\"Digit\")\n",
    "plt.show()\n",
    "\n",
    "# Plot the scatter plot of latent space with color-coded labels\n",
    "# Each dot shows where a particular 28x28 image ends up in the 2D latent space\n",
    "pc = plt.scatter(values[:, 0], values[:, 1], c=all_labels, cmap=cmap)\n",
    "plt.colorbar(pc)"
   ]
  },
  {
   "cell_type": "code",
   "execution_count": null,
   "id": "09e39f6d-1b96-41a3-a25d-54dc0c5c9454",
   "metadata": {},
   "outputs": [],
   "source": [
    "# Generate an image using based on two coordinates in latent space\n",
    "\n",
    "s = input(\"Pick a number from 0 to 600:\")\n",
    "n = int(s)\n",
    "\n",
    "#switch off autograd; do not calculate gradients\n",
    "with torch.no_grad():\n",
    "    \n",
    "    print(f\"Decode {values[n,:]} into 28x28 pixel image:\")\n",
    "#use decoder to generate image from 2 coordinates in latent space    \n",
    "    pred = dec(torch.Tensor(values[n,:])[None, ...].to(device)).cpu()\n",
    "\n",
    "#transform image into a PIL Image    \n",
    "    results = transforms.ToPILImage()(pred.reshape(1, 28, 28))\n",
    "    plt.figure(figsize = (2,2))\n",
    "    ax = plt.gca()\n",
    "    ax.set_axis_off()\n",
    "#use imshow() to display PIL image    \n",
    "    ax.imshow(results, cmap=plt.cm.gray_r, interpolation=\"nearest\")\n",
    "   "
   ]
  },
  {
   "cell_type": "code",
   "execution_count": null,
   "id": "839d2e0b-c85c-4015-8f52-b583bc49178e",
   "metadata": {},
   "outputs": [],
   "source": [
    "# Generate an image using two user coordinates in latent space\n",
    "\n",
    "s = input(\"Pick a coordinate from -15 to 15:\")\n",
    "x1 = float(s)\n",
    "s = input(\"Pick a coordinate from -20 to 10:\")\n",
    "x2 = float(s)\n",
    "v = [x1,x2]\n",
    "\n",
    "#switch off autograd; do not calculate gradients\n",
    "with torch.no_grad():\n",
    "    print(f\"Decode {v} into 28x28 pixel image:\")\n",
    "#use decoder to generate image from 2 coordinates in latent space\n",
    "    pred = dec(torch.Tensor(v)[None, ...].to(device)).cpu()\n",
    "#transform image into a PIL Image\n",
    "    results = transforms.ToPILImage()(pred.reshape(1, 28, 28))\n",
    "    plt.figure(figsize = (2,2))\n",
    "    ax = plt.gca()\n",
    "    ax.set_axis_off()\n",
    "#use imshow() to display PIL image\n",
    "    ax.imshow(results, cmap=plt.cm.gray_r, interpolation=\"nearest\")"
   ]
  },
  {
   "cell_type": "code",
   "execution_count": null,
   "id": "3c713f2d-eba8-4dc1-a8f2-01f5a1684953",
   "metadata": {},
   "outputs": [],
   "source": []
  }
 ],
 "metadata": {
  "kernelspec": {
   "display_name": "Python 3 (ipykernel)",
   "language": "python",
   "name": "python3"
  },
  "language_info": {
   "codemirror_mode": {
    "name": "ipython",
    "version": 3
   },
   "file_extension": ".py",
   "mimetype": "text/x-python",
   "name": "python",
   "nbconvert_exporter": "python",
   "pygments_lexer": "ipython3",
   "version": "3.12.3"
  }
 },
 "nbformat": 4,
 "nbformat_minor": 5
}
