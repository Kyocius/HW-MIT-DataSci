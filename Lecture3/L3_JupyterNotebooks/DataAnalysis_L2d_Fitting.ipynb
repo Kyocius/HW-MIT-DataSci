{
 "cells": [
  {
   "cell_type": "markdown",
   "metadata": {},
   "source": [
    "# Fitting\n",
    "\n",
    "- determine parameters of a function to find best description of data\n",
    "- best description defined by global maximum (or minimum) of a goodness-of-fit criterion\n",
    "- many possibilities; one often used in quantitative analysis is $\\chi^2$\n",
    "- $\\chi^2 = \\sum_i^N \\frac{(x_i - e_i)^2}{\\sigma^2}$\n",
    "- $x_i$ are the data points, $e_i$ are the function or model predictions, $\\sigma_i$ are the uncertainties for point $i$\n",
    "\n",
    "__Example:__\n",
    "\n",
    "- let's say we are measuring kinetic energy $E_{kin}$, which depends on mass $m$ and velocity $v$:\n",
    "- $E_{kin} = \\frac{1}{2} m v^2$"
   ]
  },
  {
   "cell_type": "code",
   "execution_count": 1,
   "metadata": {
    "scrolled": true
   },
   "outputs": [
    {
     "name": "stdout",
     "output_type": "stream",
     "text": [
      "y_true =  [0.5, 2.0, 4.5, 8.0, 12.5, 18.0, 24.5, 32.0]\n"
     ]
    },
    {
     "data": {
      "image/png": "[encoded data removed]",
      "text/plain": [
       "<Figure size 432x288 with 1 Axes>"
      ]
     },
     "metadata": {
      "needs_background": "light"
     },
     "output_type": "display_data"
    }
   ],
   "source": [
    "import matplotlib.pyplot as plt\n",
    "import numpy as np\n",
    "\n",
    "def Ekin(v, m = 1.0):\n",
    "        return 0.5*m*v**2\n",
    "\n",
    "x = [1.0,2.0,3.0,4.0,5.0,6.0,7.0,8.0]\n",
    "y_true = []\n",
    "for i in range(len(x)):\n",
    "    xx = float(x[i])\n",
    "    y_true.append(Ekin(xx))\n",
    "\n",
    "print(\"y_true = \", y_true)\n",
    "fig = plt.figure()\n",
    "ax = fig.add_subplot(111)\n",
    "plt.plot(x,y_true,\"ro\")\n",
    "ax.set_xbound(0,10)\n",
    "ax.set_ybound(0,40)\n",
    "plt.show()\n",
    "    "
   ]
  },
  {
   "cell_type": "markdown",
   "metadata": {},
   "source": [
    "Ok, let's say our measurement has 20% uncertainty"
   ]
  },
  {
   "cell_type": "code",
   "execution_count": 3,
   "metadata": {
    "scrolled": true
   },
   "outputs": [
    {
     "data": {
      "image/png": "[encoded data removed]",
      "text/plain": [
       "<Figure size 432x288 with 1 Axes>"
      ]
     },
     "metadata": {
      "needs_background": "light"
     },
     "output_type": "display_data"
    }
   ],
   "source": [
    "y_obs = []\n",
    "for i in range(len(x)):\n",
    "    err = np.random.normal(1,0.2)\n",
    "    y = Ekin(x[i]) * err\n",
    "    y_obs.append(y)\n",
    "\n",
    "#print(\"x = \", x)\n",
    "#print(\"y_true = \", y_true)\n",
    "#print(\"y_obs = \", y_obs)\n",
    "\n",
    "fig = plt.figure()\n",
    "ax = fig.add_subplot(111)\n",
    "plt.plot(x,y_true,\"-\")\n",
    "plt.plot(x,y_obs,\"go\")\n",
    "ax.set_xbound(0,10)\n",
    "ax.set_ybound(0.1,40)\n",
    "ax.set_yscale(\"linear\")\n",
    "\n",
    "plt.show()\n",
    "    \n"
   ]
  },
  {
   "cell_type": "markdown",
   "metadata": {},
   "source": [
    "This will be much easier to understand if we add \"error bars\""
   ]
  },
  {
   "cell_type": "code",
   "execution_count": 13,
   "metadata": {
    "scrolled": false
   },
   "outputs": [
    {
     "data": {
      "image/png": "[encoded data removed]",
      "text/plain": [
       "<Figure size 432x288 with 1 Axes>"
      ]
     },
     "metadata": {
      "needs_background": "light"
     },
     "output_type": "display_data"
    }
   ],
   "source": [
    "y_obs = []\n",
    "y_err = []\n",
    "\n",
    "for i in range(len(x)):\n",
    "    err = np.random.normal(1,0.2)\n",
    "    y = Ekin(x[i]) * err\n",
    "    y_obs.append(y)\n",
    "    y_err.append(y * 0.2)\n",
    "\n",
    "#print(\"x = \", x)\n",
    "#print(\"y_true = \", y_true)\n",
    "#print(\"y_obs = \", y_obs)\n",
    "#print(\"y_obs = \", y_err)\n",
    "\n",
    "fig = plt.figure()\n",
    "ax = fig.add_subplot(111)\n",
    "plt.plot(x,y_true,\"-\")\n",
    "plt.errorbar(x,y_obs,yerr=y_err,fmt='go')\n",
    "\n",
    "ax.set_xbound(0,10)\n",
    "ax.set_ybound(0.1,40)\n",
    "#ax.set_yscale(\"log\")\n",
    "\n",
    "plt.show()\n",
    "    "
   ]
  },
  {
   "cell_type": "markdown",
   "metadata": {},
   "source": [
    "Now we can for example calculate the $\\chi^2$ between the observerd points (with fluctuations/uncertainty)"
   ]
  },
  {
   "cell_type": "code",
   "execution_count": 14,
   "metadata": {
    "scrolled": true
   },
   "outputs": [
    {
     "name": "stdout",
     "output_type": "stream",
     "text": [
      "Chi2 is  4.932113121454178 for  8 degrees of freedom\n"
     ]
    }
   ],
   "source": [
    "def calc_chi2(x,x_err,e):\n",
    "    if(len(x) != len(e) or len(x) != len(x_err)):\n",
    "        print(\"calc_chi2: Input lists do not have same length\")\n",
    "        return\n",
    "    chi2 = 0.0\n",
    "    for i in range(len(x)):\n",
    "        chi2 += (x[i] - e[i])**2/x_err[i]**2\n",
    "    return chi2\n",
    "\n",
    "chi2 = calc_chi2(y_obs, y_err, y_true)\n",
    "print(\"Chi2 is \",chi2,\"for \",len(y_obs),\"degrees of freedom\")\n",
    "        \n",
    "        "
   ]
  },
  {
   "cell_type": "markdown",
   "metadata": {},
   "source": [
    "- Ok, now let's do some fitting\n",
    "- assume we measure $E_kin$ for different velocities, but we don't know the mass\n",
    "- fit a function to the observed data to extract the mass from the measurement\n",
    "- use curve_fit from scipy.optimize to perform the fit"
   ]
  },
  {
   "cell_type": "code",
   "execution_count": 16,
   "metadata": {
    "scrolled": true
   },
   "outputs": [
    {
     "name": "stdout",
     "output_type": "stream",
     "text": [
      "true mass is 1.08\n",
      "fitted mass =  1.09\n",
      "uncertainty =  0.08\n",
      "Chi2 is  6.94 for  7 degrees of freedom\n"
     ]
    },
    {
     "data": {
      "image/png": "[encoded data removed]",
      "text/plain": [
       "<Figure size 432x288 with 1 Axes>"
      ]
     },
     "metadata": {
      "needs_background": "light"
     },
     "output_type": "display_data"
    }
   ],
   "source": [
    "from scipy.optimize import curve_fit\n",
    "\n",
    "y_true = []\n",
    "y_obs = []\n",
    "y_err = []\n",
    "x = [1.0,2.0,3.0,4.0,5.0,6.0,7.0,8.0]\n",
    "\n",
    "\n",
    "mass = np.random.rand()+0.1\n",
    "print(\"true mass is\", '{:.2f}'.format(mass))\n",
    "for i in range(len(x)):\n",
    "    y = Ekin(x[i],mass)\n",
    "    y_true.append(y)\n",
    "    \n",
    "for i in range(len(x)):\n",
    "    err = np.random.normal(1,0.2)\n",
    "    y = Ekin(x[i],mass) * err\n",
    "    y_obs.append(y)\n",
    "    y_err.append(y * 0.2)\n",
    "    \n",
    "popt, pcov = curve_fit(Ekin, x, y_obs, sigma=y_err,p0 = [1],absolute_sigma=True)\n",
    "perr = np.sqrt(np.diag(pcov))\n",
    "mass_fit = popt[0]\n",
    "mass_err = perr[0]\n",
    "print(\"fitted mass = \", '{:.2f}'.format(mass_fit))\n",
    "print(\"uncertainty = \", '{:.2f}'.format(mass_err))\n",
    "\n",
    "y_fit = []\n",
    "for i in range(len(x)):\n",
    "    y_fit.append(Ekin(x[i],mass_fit))\n",
    "\n",
    "chi2 = calc_chi2(y_obs, y_err, y_fit)\n",
    "print(\"Chi2 is \",'{:.2f}'.format(chi2),\"for \",len(y_obs) - 1,\"degrees of freedom\")\n",
    "\n",
    "fig = plt.figure()\n",
    "ax = fig.add_subplot(111)\n",
    "plt.plot(x,y_true,\"-\",label = 'True')\n",
    "plt.errorbar(x,y_obs,yerr=y_err,fmt='go', label = 'observed')\n",
    "xx = np.arange(x[0],x[-1],0.1)\n",
    "\n",
    "plt.plot(xx, Ekin(xx, *popt), label='fit')\n",
    "\n",
    "ax.set_xbound(0,10)\n",
    "ax.set_ybound(0.1,40)\n",
    "ax.set_yscale(\"log\")\n",
    "ax.set_xlabel(\"Velocity\")\n",
    "ax.set_ylabel(\"Kinetic energy\")\n",
    "\n",
    "ax.legend(loc='upper left')\n",
    "plt.show()\n",
    "    "
   ]
  },
  {
   "cell_type": "markdown",
   "metadata": {},
   "source": [
    "- for this particular example, we could also make our life easier by using the build-in polyfit from numpy\n",
    "- let's see how this works and also come back to the discussion of overfitting"
   ]
  },
  {
   "cell_type": "code",
   "execution_count": 18,
   "metadata": {},
   "outputs": [
    {
     "name": "stdout",
     "output_type": "stream",
     "text": [
      "[0.3810422315228477, 2.643492146771595, 4.775971884335469, 7.990207788299956, 9.979838763298014, 18.423077114192, 29.641115058760725, 35.44274721043629]\n",
      "parameters of polynomial =  [ 0.02258887  0.43078694 -0.41841027  0.89806946]\n",
      "xx =  [1.  1.1 1.2 1.3 1.4 1.5 1.6 1.7 1.8 1.9 2.  2.1 2.2 2.3 2.4 2.5 2.6 2.7\n",
      " 2.8 2.9 3.  3.1 3.2 3.3 3.4 3.5 3.6 3.7 3.8 3.9 4.  4.1 4.2 4.3 4.4 4.5\n",
      " 4.6 4.7 4.8 4.9 5.  5.1 5.2 5.3 5.4 5.5 5.6 5.7 5.8 5.9 6.  6.1 6.2 6.3\n",
      " 6.4 6.5 6.6 6.7 6.8 6.9 7.  7.1 7.2 7.3 7.4 7.5 7.6 7.7 7.8 7.9 8.  8.1\n",
      " 8.2 8.3 8.4 8.5 8.6 8.7 8.8 8.9 9.  9.1 9.2 9.3 9.4 9.5 9.6 9.7 9.8 9.9]\n"
     ]
    },
    {
     "data": {
      "image/png": "[encoded data removed]",
      "text/plain": [
       "<Figure size 432x288 with 1 Axes>"
      ]
     },
     "metadata": {
      "needs_background": "light"
     },
     "output_type": "display_data"
    }
   ],
   "source": [
    "\n",
    "x = [1.0,2.0,3.0,4.0,5.0,6.0,7.0,8.0]\n",
    "y_obs = []  \n",
    "y_err = []\n",
    "for i in range(len(x)):\n",
    "    err = np.random.normal(1,0.2)\n",
    "    y = Ekin(x[i],mass) * err\n",
    "    y_obs.append(y)\n",
    "    y_err.append(y*0.2)\n",
    "    \n",
    "z = np.polyfit(x, y_obs, 3)\n",
    "print(y_obs)\n",
    "print(\"parameters of polynomial = \",z)\n",
    "\n",
    "p = np.poly1d(z)\n",
    "\n",
    "fig = plt.figure()\n",
    "ax = fig.add_subplot(111)\n",
    "\n",
    "plt.errorbar(x,y_obs,yerr=y_err,fmt='go', label = 'observed')\n",
    "\n",
    "xx = np.arange(x[0],x[-1]+2,0.1)\n",
    "print(\"xx = \", xx)\n",
    "plt.plot(xx, p(xx),'r-', label='fit')\n",
    "\n",
    "ax.set_xbound(0,10)\n",
    "ax.set_ybound(0.1,40)\n",
    "ax.set_yscale(\"log\")\n",
    "\n",
    "ax.legend(loc='upper left')\n",
    "plt.show()"
   ]
  },
  {
   "cell_type": "code",
   "execution_count": null,
   "metadata": {},
   "outputs": [],
   "source": [
    "## from scipy.optimize import curve_fit\n",
    "import matplotlib.pylab as plt\n",
    "import skimage\n",
    "import numpy as np\n",
    "\n",
    "#define a Gaussian function with 3 parameters, max, position, sigma\n",
    "def gauss(x,a, x0, sigma):\n",
    "   return a*np.exp(-(x-x0)**2/(2*sigma**2))\n",
    "\n",
    "# Generate a sample data file with Gaussian distribution random data\n",
    "\n",
    "# Open file\n",
    "f = open(\"gaus.txt\",\"w\")\n",
    "\n",
    "# Generate Gaussian data points\n",
    "x = np.random.normal(100,20,5000)\n",
    "\n",
    "#Write points to file and close file\n",
    "print(\"Write\",len(x),\"data points\")\n",
    "for i in range(len(x)):\n",
    "    f.write(str(i)+\",\"+str(x[i])+\"\\n\")\n",
    "f.close\n",
    "\n",
    "# now read the sample data file\n",
    "   \n",
    "f = open(\"gaus.txt\",\"r\")\n",
    "\n",
    "# Will store the input values in data[]\n",
    "data = []\n",
    "\n",
    "# Read from data file until nothing is returned by readline()\n",
    "flag = True\n",
    "while flag:\n",
    "    s = f.readline()\n",
    "    if s:\n",
    "        ss = s.split(\",\")\n",
    "        data.append(float(ss[1]))\n",
    "    else:\n",
    "        # reached end of file; stop while loop\n",
    "        flag = False\n",
    "\n",
    "print(\"Read\",len(data),\"data points\")\n",
    "# close data file\n",
    "f.close\n",
    "\n",
    "# Create matplotlib figure\n",
    "fig = plt.figure(figsize = (8,8))\n",
    "fig.add_subplot(111)\n",
    "# change size of tick labels (numbers) from too-small default\n",
    "plt.rcParams['xtick.labelsize']=14\n",
    "plt.rcParams['ytick.labelsize']=14\n",
    "\n",
    "# set parameters for histogram\n",
    "nbins =50\n",
    "xmin = 0\n",
    "xmax = 200\n",
    "\n",
    "#plot data as 'step' (line) histogram with green line\n",
    "plt.hist(data,nbins,histtype='step',range=[xmin,xmax],color = 'g')\n",
    "\n",
    "# histogram the data and get the bin counts (\"yval\") and bin edges (\"edges\")\n",
    "yval, edges = np.histogram(data,nbins, range=[xmin,xmax])\n",
    "\n",
    "#calculate the bin centers (\"xval\") and count errors (\"yerror\")\n",
    "xval = np.empty(nbins)\n",
    "yerror = np.empty(nbins)\n",
    "for i in range(nbins):\n",
    "    xval[i] = (edges[i]+edges[i+1])/2\n",
    "    yerror[i] = np.sqrt(yval[i])\n",
    "\n",
    "# plot the same histogram, but with markers and y errorbars\n",
    "plt.errorbar(xval,yval,yerr=yerror,fmt='ro',label='Data')\n",
    "\n",
    "# calculate starting parameters for the Gaussian fit\n",
    "par = np.empty(3)\n",
    "par[0] = np.amax(yval) # height\n",
    "par[1] = np.average(data) #mean\n",
    "par[2] = np.std(data) #sigma\n",
    "\n",
    "print(\"Starting parameters for Gaussian fit = \",par)\n",
    "\n",
    "# perform Gaussian fit, returning fitted values (\"popt\") and covariance matrix (\"pcov\")\n",
    "popt, pcov = curve_fit(gauss, xval, yval,p0 = par)\n",
    "\n",
    "# get parameter errors as sqrt of diagonal of covariance matrix\n",
    "perr = np.sqrt(np.diag(pcov))\n",
    "\n",
    "print(\"Fitted parameters = \",popt)\n",
    "print(\"Uncertainties = \",perr)\n",
    "\n",
    "# plot Gaussian with fitted parameters\n",
    "xx = np.arange(xmin,xmax,0.1)\n",
    "plt.plot(xx, gauss(xx, *popt),'b',label=\"Gaussian fit\")\n",
    "\n",
    "# set labels and font size\n",
    "plt.xlabel(r'Data value', fontsize = 18)\n",
    "plt.ylabel(r'No of events per bin', fontsize = 18)\n",
    "plt.legend(fontsize = 'xx-large')\n",
    "plt.tight_layout()         # Automatically set the margins to fit everything\n",
    "plt.savefig(\"myplot.pdf\")\n",
    "plt.show()"
   ]
  },
  {
   "cell_type": "code",
   "execution_count": null,
   "metadata": {},
   "outputs": [],
   "source": []
  }
 ],
 "metadata": {
  "kernelspec": {
   "display_name": "Python 3 (ipykernel)",
   "language": "python",
   "name": "python3"
  },
  "language_info": {
   "codemirror_mode": {
    "name": "ipython",
    "version": 3
   },
   "file_extension": ".py",
   "mimetype": "text/x-python",
   "name": "python",
   "nbconvert_exporter": "python",
   "pygments_lexer": "ipython3",
   "version": "3.9.12"
  }
 },
 "nbformat": 4,
 "nbformat_minor": 4
}
