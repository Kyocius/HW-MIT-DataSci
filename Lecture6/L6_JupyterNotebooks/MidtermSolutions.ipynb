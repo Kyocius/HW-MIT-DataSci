{
 "cells": [
  {
   "cell_type": "markdown",
   "id": "6310c965-9186-4b8c-9885-3cc1b27a70c8",
   "metadata": {},
   "source": [
    "# Midterm solutions"
   ]
  },
  {
   "cell_type": "code",
   "execution_count": null,
   "id": "ef766d1e-508a-4587-9fb0-5e26dcf6ab07",
   "metadata": {},
   "outputs": [],
   "source": [
    "import numpy as np\n",
    "import matplotlib.pyplot as plt\n",
    "\n",
    "x = np.random.rand(400)*10+10\n",
    "\n",
    "counts, edges,_ = plt.hist(x,bins=400)\n",
    "plt.xlabel(\"x value\")\n",
    "plt.ylabel(\"Entries per bin\")"
   ]
  },
  {
   "cell_type": "code",
   "execution_count": null,
   "id": "43be48ce-ac84-454c-9c86-f489e0690c01",
   "metadata": {
    "scrolled": true
   },
   "outputs": [],
   "source": [
    "print(\"*******\")\n",
    "print(\"Question 1:\")\n",
    "print(f\"Mean of distribution = {np.mean(x):.3}\")\n",
    "print(f\"Standard deviation of distribution = {np.std(x):.3}\")\n",
    "print(f\"Uncertainty on mean = {np.std(x)/np.sqrt(len(x)):.3}\")\n",
    "print(\"Correct answer is 15 +/- 0.14\")\n",
    "print(\"*******\")"
   ]
  },
  {
   "cell_type": "code",
   "execution_count": null,
   "id": "9a9572b8-2b78-4fc4-8cb7-bbfd0620aeba",
   "metadata": {},
   "outputs": [],
   "source": [
    "import pandas as pd\n",
    "import scipy as sp\n",
    "\n",
    "data = pd.read_csv(\"Data_question5.csv\")\n",
    "x = data[\"x\"]\n",
    "y = data[\"y\"]\n",
    "data[\"x\"].plot.hist()"
   ]
  },
  {
   "cell_type": "code",
   "execution_count": null,
   "id": "182df6cd-b40b-45fd-bbf7-6b657d591eb5",
   "metadata": {},
   "outputs": [],
   "source": [
    "plt.scatter(x,y)\n",
    "\n",
    "print(sp.stats.pearsonr(x,y))\n",
    "plt.xlabel(\"x\")\n",
    "plt.ylabel(\"y\")\n",
    "\n",
    "print(sp.stats.pearsonr(x,y))"
   ]
  },
  {
   "cell_type": "code",
   "execution_count": null,
   "id": "9f0e2998-491f-47ee-b400-6c95d21a6a56",
   "metadata": {},
   "outputs": [],
   "source": [
    "def gauss(x,a, x0, sigma):\n",
    "   return a*np.exp(-(x-x0)**2/(2*sigma**2))\n",
    "x = np.arange(0,20,0.1)\n",
    "print(x)\n",
    "y = gauss(x,10,9.5,0.75)\n",
    "y = y + 5 - x/4\n",
    "ey = np.random.normal(0,0.4,len(y))\n",
    "y = y + ey\n",
    "for i in range(len(ey)):\n",
    "    ey[i] = 0.4\n",
    "plt.errorbar(x,y,yerr = ey,fmt=\"o\")\n",
    "\n",
    "f8 = open(\"Data_question8.csv\",\"w\")\n",
    "f8.write(\"x,y,y_err\\n\")\n",
    "for i in range(len(x)):\n",
    "    s = str(x[i])+ \",\" + str(y[i]) +\",\" + str(ey[i])+\"\\n\"\n",
    "    f8.write(s)\n",
    "f8.close()"
   ]
  },
  {
   "cell_type": "code",
   "execution_count": null,
   "id": "7f973f80-3ba3-493d-b267-3bd109f34936",
   "metadata": {},
   "outputs": [],
   "source": [
    "def slope_gauss(x,a,b,max,x0, sigma):\n",
    "   return a + b*x + max*np.exp(-(x-x0)**2/(2*sigma**2))\n",
    "\n",
    "data = pd.read_csv(\"Data_question8.csv\")\n",
    "x = data[\"x\"].values\n",
    "y = data[\"y\"].values\n",
    "ey = data[\"y_err\"].values\n",
    "plt.errorbar(x,y,yerr = ey,fmt=\"og\")\n",
    "\n",
    "\n",
    "par = [5,-0.25,10,10,1]\n",
    "popt, pcov = sp.optimize.curve_fit(slope_gauss,x,y,p0 = par)\n",
    "print(popt)\n",
    "par = popt\n",
    "print(np.sqrt(np.diag(pcov)))\n",
    "fy = slope_gauss(x,par[0],par[1],par[2],par[3],par[4])\n",
    "plt.errorbar(x,fy)"
   ]
  },
  {
   "cell_type": "code",
   "execution_count": null,
   "id": "7be6e309-6132-4abd-97b9-1c2e7ddd8033",
   "metadata": {},
   "outputs": [],
   "source": [
    "t = np.arange(0,100,0.1)\n",
    "y1 = np.sin(t*3)\n",
    "y1 = y1 + np.random.normal(0,1,len(t))\n",
    "y2 = np.sin(t*3)\n",
    "y2 = y2 + np.random.normal(0,1,len(t))\n",
    "for i in range(250,255):\n",
    "    y1[i] = y1[i] + gauss(i,3,253,5)\n",
    "    y2[i+1] = y2[i+1] + gauss(i,3,252,5)\n",
    " \n",
    "corr = (y1 * y2)*(y1*y2)\n",
    "plt.errorbar(t,y1)\n",
    "plt.errorbar(t,y2)\n",
    "plt.figure()\n",
    "plt.errorbar(t,corr)\n",
    "\n",
    "f12 = open(\"Data_question12.csv\",\"w\")\n",
    "f12.write(\"t,s1,s2\\n\")\n",
    "for i in range(len(t)):\n",
    "    s = str(t[i])+ \",\" + str(y1[i]) +\",\" + str(y2[i])+\"\\n\"\n",
    "    f12.write(s)\n",
    "f12.close()"
   ]
  },
  {
   "cell_type": "code",
   "execution_count": null,
   "id": "0c50d5f7-6cc1-48ba-908e-797c5a7586d4",
   "metadata": {},
   "outputs": [],
   "source": [
    "data = pd.read_csv(\"Data_question12.csv\")\n",
    "tt = data[\"t\"].values\n",
    "s1 = data[\"s1\"].values\n",
    "s2 = data[\"s2\"].values\n",
    "plt.errorbar(tt,s1)\n",
    "plt.errorbar(tt,s2)\n",
    "plt.figure()\n",
    "corr = (y1 * y2)*(y1*y2)\n",
    "plt.errorbar(t,corr)"
   ]
  },
  {
   "cell_type": "code",
   "execution_count": null,
   "id": "3533318c-ad28-4379-8390-0ebd0e1c3b08",
   "metadata": {},
   "outputs": [],
   "source": []
  }
 ],
 "metadata": {
  "kernelspec": {
   "display_name": "Python 3 (ipykernel)",
   "language": "python",
   "name": "python3"
  },
  "language_info": {
   "codemirror_mode": {
    "name": "ipython",
    "version": 3
   },
   "file_extension": ".py",
   "mimetype": "text/x-python",
   "name": "python",
   "nbconvert_exporter": "python",
   "pygments_lexer": "ipython3",
   "version": "3.11.7"
  }
 },
 "nbformat": 4,
 "nbformat_minor": 5
}
