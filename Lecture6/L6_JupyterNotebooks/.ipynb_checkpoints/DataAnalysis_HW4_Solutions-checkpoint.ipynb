{
 "cells": [
  {
   "cell_type": "markdown",
   "id": "0cb10879-c91f-4617-98c5-66a7cc8a7103",
   "metadata": {},
   "source": [
    "# Homework 4 solutions\n",
    "\n",
    "1.\tRead the data from the “TopRight_20230803.txt” file into a Pandas DataFrame"
   ]
  },
  {
   "cell_type": "code",
   "execution_count": null,
   "id": "fe647094-abda-4807-ad9e-5e02755eddb1",
   "metadata": {},
   "outputs": [],
   "source": [
    "# to use pandas we need to import the library\n",
    "\n",
    "import numpy as np\n",
    "import pandas as pd"
   ]
  },
  {
   "cell_type": "code",
   "execution_count": null,
   "id": "a90816ba-106b-4c54-adc9-05243fa69666",
   "metadata": {
    "scrolled": true
   },
   "outputs": [],
   "source": [
    "cw = pd.read_csv(\"../../Data/TopRight_20230803.txt\",skiprows=7,delim_whitespace=True, names = ['Event', 'Time', 'Date', 'TimeStamp', 'ADC1', 'ADC2', 'SiPM', 'Temp', 'Pressure', 'DeadTime', 'Coincident', 'ID'])"
   ]
  },
  {
   "cell_type": "code",
   "execution_count": null,
   "id": "0936817a-34f0-41dd-828f-8ebf50fcd759",
   "metadata": {},
   "outputs": [],
   "source": [
    "cw\n"
   ]
  },
  {
   "cell_type": "markdown",
   "id": "0bd5a8b7-e781-447b-a650-15a59e417d3e",
   "metadata": {},
   "source": [
    "__Question 2:__ Approximately, how many rows of data does the DataFrame have?"
   ]
  },
  {
   "cell_type": "code",
   "execution_count": null,
   "id": "3eaa17dc-30e4-403f-ae06-416ca8d4c8fb",
   "metadata": {},
   "outputs": [],
   "source": [
    "e = cw[\"Event\"]\n",
    "print(f\"The dataframe has {len(e)} rows\")"
   ]
  },
  {
   "cell_type": "markdown",
   "id": "135a8bce-1655-44ac-8334-0f5e49e74b5e",
   "metadata": {},
   "source": [
    "__Question 3:__ Approximately, what is the average value <p> for the “Pressure” data series? "
   ]
  },
  {
   "cell_type": "code",
   "execution_count": null,
   "id": "838c64d5-eaf4-48ed-a65e-fb5e10f5047e",
   "metadata": {},
   "outputs": [],
   "source": [
    "p = cw[\"Pressure\"]\n",
    "print(f\"The average pressure is {p.mean():.3}\")"
   ]
  },
  {
   "cell_type": "markdown",
   "id": "2b42b489-6915-4f1b-9a7f-5c95a65bb79d",
   "metadata": {},
   "source": [
    "__Question 4:__ \tApproximately, what is the uncertainty on the average pressure value? "
   ]
  },
  {
   "cell_type": "code",
   "execution_count": null,
   "id": "6948ab6b-ff45-4dce-b14b-3fc991d13c53",
   "metadata": {},
   "outputs": [],
   "source": [
    "print(f\"Standard deviation of the pressure is {p.std():.3}\")\n",
    "print(f\"There are {len(p)} measurements\")\n",
    "print(f\"The uncertainty is std/sqrt(N) = {p.std()/np.sqrt(len(p)):.3}\")"
   ]
  },
  {
   "cell_type": "markdown",
   "id": "5f561d4f-d5c7-495d-a99d-e720c66528ca",
   "metadata": {},
   "source": [
    "__Question 5:__ Is there a correlation between Pressure and Timestamp? "
   ]
  },
  {
   "cell_type": "code",
   "execution_count": null,
   "id": "478298fe",
   "metadata": {
    "scrolled": true
   },
   "outputs": [],
   "source": [
    "cw.plot.scatter(\"TimeStamp\",\"Pressure\")\n",
    "print(\"TimeStamp and Pressure are clearly correlated\")"
   ]
  },
  {
   "cell_type": "markdown",
   "id": "06bd6115-43b7-49c4-85ed-de7c0f4217fb",
   "metadata": {},
   "source": [
    "__Question 8__: Are the SiPM values different from rows with \"Coincident\" == 0 or == 1?"
   ]
  },
  {
   "cell_type": "code",
   "execution_count": null,
   "id": "027d1034-7f6b-4a26-b98e-9350b80d7354",
   "metadata": {},
   "outputs": [],
   "source": [
    "c1 = cw.loc[cw['Coincident'] == 1][\"SiPM\"]\n",
    "c0 = cw.loc[cw['Coincident'] == 0][\"SiPM\"]\n",
    "\n",
    "print(len(c1), c1.mean(), c1.std())\n",
    "print(len(c0), c0.mean(), c0.std())\n",
    "ax = c0.plot.hist(bins=50, alpha=0.5, range=[0,500],label = \"no coincidence\")\n",
    "ax = c1.plot.hist(bins=50, alpha=0.5, range = [0,500],label = \"coincidence\")\n",
    "ax.set_yscale(\"linear\")\n",
    "ax.legend()"
   ]
  },
  {
   "cell_type": "code",
   "execution_count": null,
   "id": "5ab542f8-2166-4021-b406-792d3b8a5352",
   "metadata": {},
   "outputs": [],
   "source": [
    "ax = c0.plot.hist(bins=50, alpha=0.5, range=[0,500],label = \"no coincidence\")\n",
    "ax = c1.plot.hist(bins=50, alpha=0.5, range = [0,500],label = \"coincidence\")\n",
    "ax.legend()\n",
    "ax.set_yscale(\"log\")"
   ]
  },
  {
   "cell_type": "code",
   "execution_count": null,
   "id": "3533318c-ad28-4379-8390-0ebd0e1c3b08",
   "metadata": {},
   "outputs": [],
   "source": [
    "ax = c0.plot.hist(bins=50, alpha=0.5, density = True, range=[0,500],label = \"no coincidence\")\n",
    "ax = c1.plot.hist(bins=50, alpha=0.5, density = True, range = [0,500],label = \"coincidence\")\n",
    "ax.legend()\n",
    "ax.set_yscale(\"log\")"
   ]
  },
  {
   "cell_type": "markdown",
   "id": "62fe9261-3659-455c-87c4-f58977880bf1",
   "metadata": {},
   "source": [
    "__Answer: yes, the shape of the distributions is different__"
   ]
  },
  {
   "cell_type": "code",
   "execution_count": null,
   "id": "77a4d83b-5942-411a-94d5-74e0f58b825e",
   "metadata": {},
   "outputs": [],
   "source": []
  }
 ],
 "metadata": {
  "kernelspec": {
   "display_name": "Python 3 (ipykernel)",
   "language": "python",
   "name": "python3"
  },
  "language_info": {
   "codemirror_mode": {
    "name": "ipython",
    "version": 3
   },
   "file_extension": ".py",
   "mimetype": "text/x-python",
   "name": "python",
   "nbconvert_exporter": "python",
   "pygments_lexer": "ipython3",
   "version": "3.11.7"
  }
 },
 "nbformat": 4,
 "nbformat_minor": 5
}
