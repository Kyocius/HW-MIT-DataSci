{
 "cells": [
  {
   "cell_type": "markdown",
   "metadata": {},
   "source": [
    "# SciKit learn Multi Layer Perceptron (MLP) examples\n",
    "\n",
    "Using MLP regressor to describe the connection between two variables. How to setup, train and apply an MLP regressor"
   ]
  },
  {
   "cell_type": "code",
   "execution_count": null,
   "metadata": {},
   "outputs": [],
   "source": [
    "import numpy as np\n",
    "import matplotlib.pyplot as plt\n",
    "from sklearn.neural_network import MLPRegressor\n",
    "\n",
    "#create 1000 numbers from 0-100 in steps of 0.1, and then change it into a [1000x1] array, for using in nn.fit()\n",
    "x  = np.arange(0.0,100,0.01).reshape(-1,1)\n",
    "#ravel() makes sure that y is a [1000x1] array and not a vector of 1000 values\n",
    "y  = np.square(x).ravel()\n",
    "\n",
    "# plot the result\n",
    "fig, (ax1,ax2) = plt.subplots(1,2)\n",
    "ax1.scatter(x, y, s=5, c='g', marker=\"s\", label='Data y = x^2')\n",
    "ax1.legend(loc=\"lower right\")\n",
    "ax1.set_ylim(0.1,12000)\n",
    "ax1.set_yscale(\"linear\")\n"
   ]
  },
  {
   "cell_type": "code",
   "execution_count": null,
   "metadata": {},
   "outputs": [],
   "source": [
    "\n",
    "# create the multi-layer perceptron (MLP) model with some parameters\n",
    "nn = MLPRegressor(hidden_layer_sizes=(20,20),  activation='relu',\n",
    "                solver='adam', max_iter=1000)\n",
    "\n",
    "# train the model\n",
    "print(\"Starting fit...\")\n",
    "n = nn.fit(x, y)\n",
    "print(\"...done\")\n",
    "\n",
    "# Predict values using the MLP regressor\n",
    "test_x = np.arange(0.0, 500, 1).reshape(-1,1)\n",
    "test_y = nn.predict(test_x)\n",
    "\n",
    "# plot the result of the fit\n",
    "fig, (ax1,ax2) = plt.subplots(1,2)\n",
    "ax1.scatter(x, y, s=5, c='g', marker=\"s\", label='Data y = x^2')\n",
    "ax1.legend(loc=\"lower right\")\n",
    "ax1.set_xlim(0.1,100)\n",
    "ax1.set_ylim(0.1,12000)\n",
    "\n",
    "ax1.set_yscale(\"linear\")\n",
    "\n",
    "ax2.scatter(x, y, s=5, c='g', marker=\"s\", label='Data')\n",
    "ax2.plot(test_x,test_y, \"r-\", label='NN Prediction')\n",
    "ax2.legend(loc=\"lower right\")\n",
    "ax2.set_ylim(0.1,12000)\n",
    "ax2.set_xlim(0,100)\n",
    "ax2.set_yscale(\"linear\")\n",
    "plt.tight_layout()\n",
    "plt.show()\n"
   ]
  },
  {
   "cell_type": "code",
   "execution_count": null,
   "metadata": {},
   "outputs": [],
   "source": [
    "# plot the result of the fit\n",
    "fig, (ax1,ax2) = plt.subplots(1,2)\n",
    "ax1.scatter(x, y, s=5, c='g', marker=\"s\", label='Data y = x^2')\n",
    "ax1.legend(loc=\"lower right\")\n",
    "ax1.set_xlim(0.1,100)\n",
    "ax1.set_ylim(0.1,12000)\n",
    "\n",
    "ax1.set_yscale(\"log\")\n",
    "\n",
    "ax2.scatter(x, y, s=5, c='g', marker=\"s\", label='Data')\n",
    "ax2.plot(test_x,test_y, \"r-\", label='NN Prediction')\n",
    "ax2.legend(loc=\"lower right\")\n",
    "ax2.set_ylim(0.1,12000)\n",
    "ax2.set_xlim(0,100)\n",
    "ax2.set_yscale(\"log\")\n",
    "plt.tight_layout()\n",
    "plt.show()\n"
   ]
  },
  {
   "cell_type": "markdown",
   "metadata": {},
   "source": [
    "# MLP classifier example\n",
    "\n",
    "Use same Iris dataset as for AdaBoosClassifier"
   ]
  },
  {
   "cell_type": "code",
   "execution_count": null,
   "metadata": {},
   "outputs": [],
   "source": [
    "# sklearn comes with some example data sets\n",
    "from sklearn import datasets\n",
    "\n",
    "# Import train_test_split function\n",
    "from sklearn.model_selection import train_test_split\n",
    "#Import scikit-learn metrics module for accuracy calculation\n",
    "from sklearn import metrics\n",
    "#Import scikit-learn MLP classifier\n",
    "from sklearn.neural_network import MLPClassifier \n",
    "\n",
    "# load the \"iris\" data set\n",
    "iris = datasets.load_iris()\n",
    "\n",
    "# get feature and target data for each object\n",
    "X = iris.data\n",
    "y = iris.target\n",
    "\n",
    "# Split dataset into training set and test set\n",
    "X_train, X_test, y_train, y_test = train_test_split(X, y, test_size=0.3) # 70% training and 30% test\n",
    "\n",
    "# Create MLP classifer object\n",
    "mlp = MLPClassifier(solver='adam', hidden_layer_sizes=(5, 5), max_iter=10000)\n",
    "\n",
    "# Train MLP Classifer\n",
    "model = mlp.fit(X_train, y_train)\n",
    "\n",
    "#Predict the response for test dataset\n",
    "y_pred = model.predict(X_test)\n",
    "\n",
    "# Model Accuracy, how often is the classifier correct?\n",
    "print(\"Accuracy:\",metrics.accuracy_score(y_test, y_pred))\n",
    "print(y_test)\n",
    "print(y_pred)\n",
    "\n",
    "# Confusion matric, which objects are misclassified? \n",
    "print(metrics.confusion_matrix(y_test, y_pred))\n"
   ]
  },
  {
   "cell_type": "code",
   "execution_count": null,
   "metadata": {},
   "outputs": [],
   "source": []
  },
  {
   "cell_type": "code",
   "execution_count": null,
   "metadata": {},
   "outputs": [],
   "source": []
  }
 ],
 "metadata": {
  "kernelspec": {
   "display_name": "Python 3 (ipykernel)",
   "language": "python",
   "name": "python3"
  },
  "language_info": {
   "codemirror_mode": {
    "name": "ipython",
    "version": 3
   },
   "file_extension": ".py",
   "mimetype": "text/x-python",
   "name": "python",
   "nbconvert_exporter": "python",
   "pygments_lexer": "ipython3",
   "version": "3.11.7"
  }
 },
 "nbformat": 4,
 "nbformat_minor": 4
}
