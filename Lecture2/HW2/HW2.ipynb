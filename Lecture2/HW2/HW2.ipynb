{
 "cells": [
  {
   "cell_type": "markdown",
   "metadata": {},
   "source": [
    "## 读取文件\n",
    "- `TopRight_20230803.txt` 非常大，大概有 68 MB，所以处理时要小心"
   ]
  },
  {
   "cell_type": "code",
   "execution_count": 3,
   "metadata": {},
   "outputs": [
    {
     "data": {
      "text/plain": [
       "763301"
      ]
     },
     "execution_count": 3,
     "metadata": {},
     "output_type": "execute_result"
    }
   ],
   "source": [
    "filename = \"TopRight_20230803.txt\"\n",
    "with open(filename, \"r\") as file:\n",
    "    lines = file.readlines()\n",
    "\n",
    "data = []\n",
    "for line in lines:\n",
    "    if line.startswith(\"###\"):\n",
    "        continue\n",
    "    else:\n",
    "        data.append(line)\n",
    "\n",
    "time_array = []\n",
    "for value in data:\n",
    "    time_array.append(value.split()[3])\n",
    "\n",
    "len(time_array)"
   ]
  },
  {
   "cell_type": "markdown",
   "metadata": {},
   "source": [
    "## 画直方图\n",
    "- 要求：1 dimensional histogram with 100 bins\n",
    "- 结果：几乎是平整的（flat）"
   ]
  },
  {
   "cell_type": "code",
   "execution_count": 4,
   "metadata": {},
   "outputs": [
    {
     "data": {
      "image/png": "[encoded data removed]",
      "text/plain": [
       "<Figure size 640x480 with 1 Axes>"
      ]
     },
     "metadata": {},
     "output_type": "display_data"
    }
   ],
   "source": [
    "import numpy as np\n",
    "import matplotlib.pyplot as plt\n",
    "\n",
    "ts_array = np.array([int(x) for x in time_array])\n",
    "\n",
    "plt.hist(ts_array, bins=100, histtype='step', color='g')\n",
    "\n",
    "plt.show()"
   ]
  },
  {
   "cell_type": "code",
   "execution_count": 8,
   "metadata": {},
   "outputs": [
    {
     "data": {
      "text/plain": [
       "2.39595960065216"
      ]
     },
     "execution_count": 8,
     "metadata": {},
     "output_type": "execute_result"
    }
   ],
   "source": [
    "ts_second = ts_array / 1000.0\n",
    "\n",
    "rate = len(ts_second) /  (ts_second[-1] - ts_second[0]) \n",
    "\n",
    "rate\n"
   ]
  },
  {
   "cell_type": "markdown",
   "metadata": {},
   "source": [
    "## 计算变异系数\n",
    "- Hint: In this question we use the coefficient of variation as the relative statistical uncertainty. You can compute 100 rates using the stats in these 100 bins. Dividing the standard deviation of these 100 rates by the absolute value of their mean will give you the coefficient of variation."
   ]
  },
  {
   "cell_type": "code",
   "execution_count": 48,
   "metadata": {},
   "outputs": [
    {
     "name": "stdout",
     "output_type": "stream",
     "text": [
      "变异系数： 0.013540780970570506\n"
     ]
    }
   ],
   "source": [
    "timestamps = ts_array / 1000\n",
    "\n",
    "# 将时间范围分成 100 个相等的箱\n",
    "bins = np.linspace(timestamps[0], timestamps[-1], 100)\n",
    "\n",
    "# 计算每个箱中的计数\n",
    "counts, _ = np.histogram(timestamps, bins=bins)\n",
    "\n",
    "# 计算每个箱中的比率\n",
    "rates = counts / np.sum(counts)\n",
    "\n",
    "# 计算比率的平均值\n",
    "mean_rate = np.mean(rates)\n",
    "\n",
    "# 计算比率的标准差\n",
    "std_rate = np.std(rates)\n",
    "\n",
    "# 计算变异系数\n",
    "cv = std_rate / np.abs(mean_rate)\n",
    "\n",
    "print(\"变异系数：\", cv)"
   ]
  }
 ],
 "metadata": {
  "kernelspec": {
   "display_name": "base",
   "language": "python",
   "name": "python3"
  },
  "language_info": {
   "codemirror_mode": {
    "name": "ipython",
    "version": 3
   },
   "file_extension": ".py",
   "mimetype": "text/x-python",
   "name": "python",
   "nbconvert_exporter": "python",
   "pygments_lexer": "ipython3",
   "version": "3.11.7"
  }
 },
 "nbformat": 4,
 "nbformat_minor": 2
}
